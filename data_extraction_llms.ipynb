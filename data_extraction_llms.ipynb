{
 "cells": [
  {
   "cell_type": "code",
   "execution_count": 1,
   "metadata": {},
   "outputs": [
    {
     "name": "stdout",
     "output_type": "stream",
     "text": [
      "Requirement already satisfied: pip in c:\\users\\aljla\\rag_llms\\myenv\\lib\\site-packages (25.0.1)\n"
     ]
    }
   ],
   "source": [
    "!python -m pip install --upgrade pip\n"
   ]
  },
  {
   "cell_type": "code",
   "execution_count": 2,
   "metadata": {},
   "outputs": [],
   "source": [
    "!pip install --upgrade --quiet langchain langchain-community langchain-openai"
   ]
  },
  {
   "cell_type": "code",
   "execution_count": 3,
   "metadata": {},
   "outputs": [],
   "source": [
    "!pip install --upgrade --quiet chromadb pypdf streamlit python-dotenv"
   ]
  },
  {
   "cell_type": "markdown",
   "metadata": {},
   "source": [
    "## Import packages"
   ]
  },
  {
   "cell_type": "markdown",
   "metadata": {},
   "source": []
  },
  {
   "cell_type": "code",
   "execution_count": 4,
   "metadata": {},
   "outputs": [
    {
     "name": "stderr",
     "output_type": "stream",
     "text": [
      "c:\\Users\\aljla\\rag_llms\\myenv\\Lib\\site-packages\\IPython\\core\\interactiveshell.py:3579: LangChainDeprecationWarning: As of langchain-core 0.3.0, LangChain uses pydantic v2 internally. The langchain_core.pydantic_v1 module was a compatibility shim for pydantic v1, and should no longer be used. Please update the code to import from Pydantic directly.\n",
      "\n",
      "For example, replace imports like: `from langchain_core.pydantic_v1 import BaseModel`\n",
      "with: `from pydantic import BaseModel`\n",
      "or the v1 compatibility namespace if you are working in a code base that has not been fully upgraded to pydantic 2 yet. \tfrom pydantic.v1 import BaseModel\n",
      "\n",
      "  exec(code_obj, self.user_global_ns, self.user_ns)\n"
     ]
    }
   ],
   "source": [
    "from langchain.document_loaders import PyPDFLoader\n",
    "from langchain.text_splitter import RecursiveCharacterTextSplitter\n",
    "from langchain_openai import OpenAIEmbeddings, ChatOpenAI\n",
    "from langchain.vectorstores import Chroma\n",
    "from langchain_core.runnables import RunnablePassthrough\n",
    "from langchain_core.prompts import ChatPromptTemplate\n",
    "from langchain_core.pydantic_v1 import BaseModel, Field"
   ]
  },
  {
   "cell_type": "code",
   "execution_count": 5,
   "metadata": {},
   "outputs": [],
   "source": [
    "import os\n",
    "import tempfile\n",
    "import streamlit as st\n",
    "import pandas as pd\n",
    "from dotenv import load_dotenv"
   ]
  },
  {
   "cell_type": "code",
   "execution_count": 6,
   "metadata": {},
   "outputs": [
    {
     "data": {
      "text/plain": [
       "True"
      ]
     },
     "execution_count": 6,
     "metadata": {},
     "output_type": "execute_result"
    }
   ],
   "source": [
    "load_dotenv()"
   ]
  },
  {
   "cell_type": "code",
   "execution_count": 7,
   "metadata": {},
   "outputs": [],
   "source": [
    "OPENAI_API_KEY = os.environ.get(\"OPENAI_API_KEY\")"
   ]
  },
  {
   "cell_type": "markdown",
   "metadata": {},
   "source": [
    "## Define LLM\n"
   ]
  },
  {
   "cell_type": "code",
   "execution_count": 8,
   "metadata": {},
   "outputs": [],
   "source": [
    "llm = ChatOpenAI(model=\"gpt-4o-mini\", api_key=OPENAI_API_KEY)\n",
    "#llm.invoke(\"Tell me a joke about cats\")"
   ]
  },
  {
   "cell_type": "markdown",
   "metadata": {},
   "source": [
    "## Process PDF document"
   ]
  },
  {
   "cell_type": "markdown",
   "metadata": {},
   "source": [
    "### Load PDF document"
   ]
  },
  {
   "cell_type": "code",
   "execution_count": 9,
   "metadata": {},
   "outputs": [],
   "source": [
    "loader = PyPDFLoader(\"data/test_rag2.pdf\")\n",
    "pages = loader.load()\n"
   ]
  },
  {
   "cell_type": "code",
   "execution_count": 10,
   "metadata": {},
   "outputs": [
    {
     "data": {
      "text/plain": [
       "[Document(metadata={'producer': 'Acrobat Distiller 8.1.0 (Windows)', 'creator': 'Elsevier', 'creationdate': '2024-12-05T14:24:32+00:00', 'crossmarkdomains[1]': 'elsevier.com', 'crossmarkmajorversiondate': '2010-04-23', 'creationdate--text': '5th December 2024', 'elsevierwebpdfspecifications': '7.0.1', 'robots': 'noindex', 'moddate': '2024-12-05T14:24:42+00:00', 'author': 'Katri Lahti', 'doi': '10.1016/j.chiabu.2024.107140', 'title': 'Victimization, immigration status, and psychosocial well-being: A representative study among finnish adolescents', 'keywords': 'Adolescence,Immigration,Victimization,Response integrity', 'subject': 'Child Abuse & Neglect, 158 (2024) 107140. doi:10.1016/j.chiabu.2024.107140', 'crossmarkdomains[2]': 'sciencedirect.com', 'crossmarkdomainexclusive': 'true', 'source': 'data/test_rag2.pdf', 'total_pages': 11, 'page': 0, 'page_label': '1'}, page_content='Victimization, immigration status, and psychosocial well-being: A \\nrepresentative study among finnish adolescents\\nKatri Lahti\\na , b , *\\n, Taina Laajasalo\\nc\\n, Heidi Backman\\na\\n, Kirsi Peltonen\\nd\\n, \\nMarkus Kaakinen\\ne\\n, Eeva T. Aronen\\na , b\\na\\nChild Psychiatry, University of Helsinki and Helsinki University Hospital, Helsinki, Finland\\nb\\nPediatric Research Center, New Children ’ s Hospital, Helsinki, Finland\\nc\\nFinnish Institute for Health and Welfare, Helsinki, Finland\\nd\\nResearch Center for Child Psychiatry, University of Turku, Turku, Finland\\ne\\nFaculty of Social Sciences, Institute of Criminology and Legal Policy, University of Helsinki, Helsinki, Finland\\nARTICLE INFO\\nKeywords:\\nAdolescence\\nImmigration\\nVictimization\\nResponse integrity\\nABSTRACT\\nBackground: Immigrant adolescents seem to be at risk for victimization and being victimized in \\nadolescence is related to risk factors regarding mental health.\\nObjective: This study compared the frequency and type of victimization experiences among \\nimmigrant and native Finnish adolescents and tested whether these experiences mediate the \\nrelationship between immigration status and psychosocial well-being. Additionally, willingness to \\ndisclose victimization experiences in anonymous questionnaires was compared between the \\ngroups.\\nParticipants and setting: In this computer-based study a population-based sample of 5607 Finnish \\nadolescents was used (M\\nage \\n= 15.23, SD\\nage \\n= 0.42, Range 15 to 16 years; 49.8 % girls, 48.5 % \\nboys), of which 11.7 % were immigrants. Twelve lifetime victimization experiences were \\nassessed, and psychosocial well-being was measured with Strengths and Difficulties \\nQuestionnaire.\\nMethods: Descriptive statistics, crosstabulation and t -tests were used to report victimization ex -\\nperiences and participants ’ willingness to share them in an anonymous questionnaire. The rela -\\ntionship between immigration status and psychosocial well-being was investigated with \\nmediation analysis, victimization experiences as mediator.\\nResults: Findings revealed that immigrant adolescents experienced more victimization, particu -\\nlarly in the form of property crimes, hate crimes, and physical and sexual abuse, than native \\nadolescents. Victimization experiences were found to mediate the impact of immigration status on \\npsychosocial well-being. Moreover, immigrant adolescents were less likely to disclose victimi -\\nzation experiences.\\nConclusions: The results suggest a potential underestimation of the prevalence of victimization \\nexperiences in immigrant adolescents, which warrants further investigation. As these experiences \\nplay an important role in the relationship between immigrant status and psychosocial well-being, \\nthe findings endorse assessing adverse experiences, as well as safe disclosure when planning \\npsychosocial support and treatment for immigrant adolescents.\\n* Corresponding author at: Biomedicum Helsinki 2, PO Box 20, FI-00014, University of Helsinki, Finland.\\nE-mail address: katri.lahti@helsinki.fi (K. Lahti). \\nContents lists available at ScienceDirect\\nChild Abuse & Neglect\\njournal homep age: www.el sevier.com/l ocate/chiabun eg\\nhttps://doi.org/10.1016/j.chiabu.2024.107140\\nReceived 30 June 2024; Received in revised form 2 November 2024; Accepted 4 November 2024  \\nChild Abuse & Neglect 158 (2024) 107140 \\nAvailable online 19 November 2024 \\n0145-2134/© 2024 The Authors. Published by Elsevier Ltd. This is an open access article under the CC BY license \\n( http://creativecommons.org/licenses/by/4.0/ ).'),\n",
       " Document(metadata={'producer': 'Acrobat Distiller 8.1.0 (Windows)', 'creator': 'Elsevier', 'creationdate': '2024-12-05T14:24:32+00:00', 'crossmarkdomains[1]': 'elsevier.com', 'crossmarkmajorversiondate': '2010-04-23', 'creationdate--text': '5th December 2024', 'elsevierwebpdfspecifications': '7.0.1', 'robots': 'noindex', 'moddate': '2024-12-05T14:24:42+00:00', 'author': 'Katri Lahti', 'doi': '10.1016/j.chiabu.2024.107140', 'title': 'Victimization, immigration status, and psychosocial well-being: A representative study among finnish adolescents', 'keywords': 'Adolescence,Immigration,Victimization,Response integrity', 'subject': 'Child Abuse & Neglect, 158 (2024) 107140. doi:10.1016/j.chiabu.2024.107140', 'crossmarkdomains[2]': 'sciencedirect.com', 'crossmarkdomainexclusive': 'true', 'source': 'data/test_rag2.pdf', 'total_pages': 11, 'page': 1, 'page_label': '2'}, page_content='1. Introduction\\nAdolescent victimization is a rather common phenomenon, with most adolescents experiencing one or more potentially trauma -\\ntizing events during childhood or adolescence ( Finkelhor et al., 2009 ; McLaughlin et al., 2013 ; Turner et al., 2016 ). Victimization \\nincludes events such as physical or sexual abuse or violence, threat of or witnessing violence, war, accidents, or natural disasters. \\nExperiencing potentially traumatizing events in childhood and adolescence can have broad short- and long-term consequences for the \\nindividual, including mental health disorders, cognitive problems, substance abuse, and somatic disorders ( Hughes et al., 2017 ; \\nWaehrer et al., 2020 ). For children and adolescents, prevalence rates of posttraumatic stress disorder (PTSD) in a meta-analysis varied \\nfrom 0.5 % to 67.3 %, overall being 15.9 % (CI 11.5–21.5) ( Alisic et al., 2014 ), depending on the event characteristics and type of \\nmeasure. According to these numbers, while most individuals face at least some potentially traumatizing events during their lifetime, \\nonly a minority develop PTSD. However, symptoms of many other mental health disorders as well as somatic disorders can be linked to \\nexperiencing adverse events during formative years ( Hughes et al., 2017 ; Schonkoff & Garner, 2012 ; Waehrer et al., 2020 ).\\n1.1. Victimization in immigrant adolescents\\nAccording to a study using data from 1995 comparing 13- to 15-year-old adolescents of 11 racial and ethnic backgrounds living in \\nthe United States, the likelihood of being violently victimized (assault or robbery) seems to be linked to the racial and ethnic back -\\nground of youth ( Taylor et al., 2007 ). Specifically, Native American, African American, White, and Hispanic adolescents were more \\nlikely to be violently victimized than Asian adolescents. These differences prevailed in both general and serious victimization, although \\nthe differences were less pronounced when the community of residence was considered. Nevertheless, findings from other American \\nstudies have been inconsistent, with some studies suggesting that foreign-born status may serve as a protective factor against criminal \\nvictimization for individuals older than 12 years, however, this effect did not extend to individuals with ambiguous citizenship status \\nsuch as undocumented immigrants ( Xie & Baumer, 2020 ).\\nBesides the prevalence rates, there are several general risk factors regarding life circumstances and adverse behavior that immi -\\ngrant children and adolescents face more often than the native population. For example, immigrant children and adolescents are more \\nlikely to grow up in a family with a lower socioeconomic status, to receive child protection services, and to not be living with their \\nparents in Finland ( Eid & Castaneda, 2023 ). In a recent study about race-based bullying victimization at school, victimization was \\nassociated with different types of risk behavior, such as aggressive behavior in Asian, Black, and Latinx adolescents born in the United \\nStates and elsewhere ( Hong et al., 2022 ). Furthermore, connections between some of the ethnic backgrounds and alcohol and \\nmarihuana use, smoking, having deviant friends, and carrying a weapon were noted. In their study, most of these relationships were \\nfound regardless of the country of birth of these adolescents with immigration background. In other studies, violent victimization has \\ngenerally been linked to male gender ( Taylor et al., 2007 ; Tillyer & Tillyer, 2016 ), violent offending, peer deviance, gang membership, \\nand low self-control in White, Black, and Hispanic youth ( Tillyer & Tillyer, 2016 ).\\nHowever, some studies have found that immigrants demonstrate a unique capability to overcome hardships and challenges, which \\nmay reduce the likelihood of adverse outcomes following these experiences - a phenomenon referred to as the “immigrant paradox” \\n( Marks et al., 2014 ; Saunders et al., 2020 ). Kuper and Turanovic (2022) found that adolescent victimization had no associations with \\nlong-term negative outcomes among immigrant adolescents. In their study, 17 % of immigrant adolescents reported having experi -\\nenced victimization (holding at knife- or gunpoint, shooting, jumping, cutting, or stabbing). These experiences had a significant but \\nlow correlation with alcohol problems and property and violent offending, but the results did not reach significance in regression \\nanalysis, with victimization as a predictor for these poor outcomes. Furthermore, there was no association with poor health, depressive \\nsymptoms, low self-esteem, suicidality, or drug use. The authors highlighted the immigrant paradox phenomenon and concluded that \\nthe psychological and physiological consequences of youth victimization in immigrants may not be extensive or long-lasting. A recent \\nmeta-analysis ( Tilley et al., 2021 ) evaluated 91 studies assessing foreign-born and native-born adolescents’ (mean age under 18 years) \\ngeneral rate of internalizing and externalizing problems to determine whether it supports the immigrant paradox theory. The results \\nrevealed mixed support for the theory, with foreign-born youth having more internalizing problems and native-born youth having \\nmore externalizing problems. In addition, girls were shown to be at increased risk for internalizing symptoms, while boys were at \\nincreased risk for externalizing symptoms.\\n1.2. Specific victimization types among immigrant adolescents\\nImmigrant children and adolescents might be especially vulnerable to specific types of victimization such as hate crimes and \\nbullying. In a recent study, being an adult immigrant was associated with heightened odds of becoming a victim of a hate crime \\n( McCann & Boateng, 2022 ). In addition, results of another study indicated that adolescents from immigrant families are more likely to \\nreport being victimized by their peers because of their race, religion, or family income than adolescents without immigration back -\\nground ( Sulkowski et al., 2014 ).\\nIn addition to hate crime, immigrant adolescents seem to be more prone to general bullying, a widely studied phenomenon ( Hong \\net al., 2021 ; Iannello et al., 2024 ; Maynard et al., 2016 ). According to a systematic review, the generation of immigration is associated \\nwith the risk of bullying and peer violence, as 1st generation immigrants not speaking the dominant language have been found to \\nexperience more bullying than 3rd generation immigrants and native adolescents ( Pottie et al., 2015 ). By contrast, in an Italian study \\nwith primary school students the association of immigrant status and bullying victimization was higher for 2nd generation immigrants \\nK. Lahti et al.                                                                                                                                                                                                           Child Abuse & Neglect 158 (2024) 107140 \\n2'),\n",
       " Document(metadata={'producer': 'Acrobat Distiller 8.1.0 (Windows)', 'creator': 'Elsevier', 'creationdate': '2024-12-05T14:24:32+00:00', 'crossmarkdomains[1]': 'elsevier.com', 'crossmarkmajorversiondate': '2010-04-23', 'creationdate--text': '5th December 2024', 'elsevierwebpdfspecifications': '7.0.1', 'robots': 'noindex', 'moddate': '2024-12-05T14:24:42+00:00', 'author': 'Katri Lahti', 'doi': '10.1016/j.chiabu.2024.107140', 'title': 'Victimization, immigration status, and psychosocial well-being: A representative study among finnish adolescents', 'keywords': 'Adolescence,Immigration,Victimization,Response integrity', 'subject': 'Child Abuse & Neglect, 158 (2024) 107140. doi:10.1016/j.chiabu.2024.107140', 'crossmarkdomains[2]': 'sciencedirect.com', 'crossmarkdomainexclusive': 'true', 'source': 'data/test_rag2.pdf', 'total_pages': 11, 'page': 2, 'page_label': '3'}, page_content='than for 1st generation immigrants, and no difference was found between 1st generation immigrants and native students ( Alivernini \\net al., 2019 ). Similar results have been reported in a large study using nationally representative data from 26 European countries \\n( Stevens et al., 2020 ). There is also conflicting evidence showing no differences in bulling victimization between immigrant and native \\nadolescents, but with immigrant adolescents engaging more often in bullying others ( Fandrem et al., 2009 ).\\nSome research suggests that corporal punishment is more prevalent among families with immigration background (e.g. Fr ´echette & \\nRomano, 2015 ). There is also evidence of a declining trend in parental corporal punishment among children and adolescents in \\nWestern countries ( Fr ´echette & Romano, 2015 ; Kaakinen & N ¨asi, 2021 ; Mehus & Patrick, 2020 ; Sariola & Ellonen, 2008 ). For instance, \\nthe Finnish Self-Report Delinquency (FSRD) study, conducted every four years, indicates stable rates of experienced corporal pun -\\nishment from 2004 to 2012, followed by a reduction in rates ( Kaakinen, 2021 ). However, studies have shown differences in use of \\ncorporal punishment among ethnic backgrounds, as higher rates of use have been reported in African American families than in \\nHispanic or non-Hispanic families ( MacKenzie et al., 2011 ; Regalado et al., 2004 ), although discrepant results also exist ( Lee & Alt -\\nschul, 2015 ). Likewise, among Finnish children and adolescents of immigrant backgrounds, more severe forms of corporal punishment \\nby parents are observed than among the native population ( K ¨a ¨ari ¨ainen et al., 2010 ). This disparity in experienced corporal punishment \\nbetween immigrant and native children and adolescents may partly stem from the diverse cultural backgrounds of immigrant families, \\nas corporal punishment might not be criminalized in their origin countries. Furthermore, these differences in use of corporal pun -\\nishment between parents of different ethnic backgrounds have been explained by differences in parenting practices and attitudes such \\nas support for authoritarian parenting ( Friedman, 2016 ) and positive attitudes towards corporal punishment ( Lorber et al., 2011 ).\\n1.3. Disclosure of victimization in surveys\\nSelf-report questionnaires are commonly utilized in studying various behaviors among adolescents. Compared with official crime \\nstatistics, they offer a more comprehensive understanding of juvenile involvement in different activities, however, the accuracy of the \\ndata depends on the respondents ’ willingness to disclose personal data. Therefore, when using self-report questionnaires to assess \\nbehavior or experiences likely to evoke feelings of guilt and shame or that are illegal, the validity of the measure is of concern and can \\nlead to invalid responses ( Jia et al., 2018 ). The respondents might, regardless of declared anonymity, be worried about their anonymity \\nand the consequences of their answers. These concerns are likely to affect their tendency to report their experiences truthfully, but this \\nphenomenon remains poorly investigated.\\nOne approach to assessing the validity of self-reported data involves directly querying respondents about their willingness to \\ndisclose information. Johnston et al. (1994) first applied direct response integrity questions when examining the feasibility of an \\ninternational youth drug survey. Their question was: “ If you had ever used marijuana or hashish, do you think you would have said so \\nin this questionnaire? ” They reasoned that students would have little motivation to lie when responding to such a question as they \\nwould not be admitting any punishable behavior. They found out that a relatively small segment of the respondents manifested low \\nwillingness to be truthful. Direct meta-questions on response integrity have subsequently been routinely used in the European School \\nSurvey Project on Alcohol and Other Drugs (ESPAD) ( Hibell et al., 2012 ) as well as in other youth surveys on sensitive topics ( Kivivuori \\net al., 2013 ; Laajasalo et al., 2016 ).\\nSome studies have indicated that immigrant youth are more likely to admit to withholding information related to delinquency in \\nsurvey settings ( Laajasalo et al., 2016 ; Lehti et al., 2014 ). A Dutch study ( van Batenburg-Eddes et al., 2012 ) examining self-report \\nmeasures and police data on delinquency among adolescents aged 11 – 16 years ( n = 23,914) revealed that adolescents overall were \\nrelatively truthful (62 %) in admitting police contact. Notably, Dutch participants were less likely to underreport police contact, while \\nMoroccan adolescents were more likely to underreport these contacts, suggesting a tendency among Moroccan youth to provide \\ninaccurate responses about police interactions. Similar patterns were not significant for other ethnic groups; however, sample sizes \\nwere small. The authors suggested that Moroccan residents in the Netherlands may harbor mistrust towards authorities, potentially \\nexplaining these findings. This distrust might extend to closer relationships, limiting immigrant adolescents ’ willingness to share \\npersonal information. In regard to victimization, a study focusing on middle school youth revealed that immigrant, particularly female, \\nstudents were least likely to disclose their experiences of bullying to anyone in person ( Miller et al., 2022 ). Overall, these findings \\nsuggest that attitudes towards authorities, fears about stigmatization, and concerns about exposure may influence response tendencies \\namong different ethnic groups in self-report questionnaires assessing victimization experiences. Further research in this area is crucial \\nfor a deeper understanding of these dynamics.\\n1.4. Study aims and hypotheses\\nGiven these mixed findings about the prevalence rates and the potential culture-related reporting tendencies of sensitive experi -\\nences, more studies on how and to what extent the victimization is associated with psychological well-being among adolescents with \\nand without immigration background are required in different national contexts. Here, we elaborate on the connection between these \\nfactors among adolescents using representative data from Finland. Recent studies have described differences between immigrant and \\nnative adolescents especially in peer-related victimization ( Alivernini et al., 2019 ; Hong et al., 2021 ; Iannello et al., 2024 ; Stevens \\net al., 2020 ). This study explored a wide variety of victimization experiences, including more recent forms of victimization such as \\ncyberbullying. First, the amount and type of victimization among immigrant and native Finnish adolescents in a population-based \\nsample were compared. Second, the mediating role of victimization in the relationship between immigration status and psychologi -\\ncal well-being was studied. Lastly, the response tendencies were reported to receive information about the adolescents ’ willingness to \\ndisclose personal information in both immigrant and native Finnish adolescent groups. To our knowledge, this is the first attempt to \\nK. Lahti et al.                                                                                                                                                                                                           Child Abuse & Neglect 158 (2024) 107140 \\n3'),\n",
       " Document(metadata={'producer': 'Acrobat Distiller 8.1.0 (Windows)', 'creator': 'Elsevier', 'creationdate': '2024-12-05T14:24:32+00:00', 'crossmarkdomains[1]': 'elsevier.com', 'crossmarkmajorversiondate': '2010-04-23', 'creationdate--text': '5th December 2024', 'elsevierwebpdfspecifications': '7.0.1', 'robots': 'noindex', 'moddate': '2024-12-05T14:24:42+00:00', 'author': 'Katri Lahti', 'doi': '10.1016/j.chiabu.2024.107140', 'title': 'Victimization, immigration status, and psychosocial well-being: A representative study among finnish adolescents', 'keywords': 'Adolescence,Immigration,Victimization,Response integrity', 'subject': 'Child Abuse & Neglect, 158 (2024) 107140. doi:10.1016/j.chiabu.2024.107140', 'crossmarkdomains[2]': 'sciencedirect.com', 'crossmarkdomainexclusive': 'true', 'source': 'data/test_rag2.pdf', 'total_pages': 11, 'page': 3, 'page_label': '4'}, page_content='assess the validity of victimization experience reports in youth using response integrity questions.\\nWe stated the following hypotheses:\\nH1: We expect that immigrant adolescents experience higher rates of lifetime victimization than native Finnish adolescents.\\nH2: We expect specific victimization types (hate crime, bullying, and parental corporal violence) to be more common among \\nimmigrant adolescents than among native Finnish adolescents.\\nH3: We expect victimization during the lifetime to have a mediating effect on the impact of immigration status on psychosocial \\nwell-being.\\nH4: We expect immigrant adolescents to be less willing to share their experiences in an anonymous questionnaire-based study.\\n2. Methods\\n2.1. Participants and procedure\\nData were collected by the Institute of Criminology and Legal Policy at the University of Helsinki in the Finnish Self-Report De -\\nlinquency (FSRD) study during 2020. The FSRD study is repeated every four years and aims to gain knowledge about adolescents ’ \\ncriminal behavior, victimization experiences, and background variables related to these topics ( Kaakinen et al., 2022 ). The study has \\nundergone the pre-review by the Research Ethics Committee in the Humanities and Social and Behavioral Sciences of the University of \\nHelsinki and was approved as compliant with the research ethics guidelines (statement no. 33/2019). The data were collected in \\nrandomly chosen schools in Finland, and the participants were 9th grade students aged 15 – 16 years.\\nThe FSRD study is a computer-based questionnaire that was filled in during a regular school day and class, supervised by a trained \\nteacher. All adolescents provided an informed consent. The sample size in 2020 was 5674 adolescents from 74 schools, the overall \\nresponse rate being 78 %. The school selection was based on stratified sampling method considering the school size (probability \\nproportional to size sampling) and location (city or rural) to achieve representativeness of the sample. No other inclusion or exclusion \\ncriteria were applied.\\n2.2. Measures\\nVictimization\\nVictimization was measured by asking whether the participant had ever experienced the 12 types of victimization included in the \\nstudy (categorical variable: yes or no). Sum variables over the lifetime were calculated (range 0 – 12). Internal consistency of the scale \\nwas calculated, and it was acceptable (Cronbach ’ s alpha = 0.78).\\nImmigration status\\nThe immigration status variable was constructed using questions about participants ’ and their parents ’ country of birth. All par -\\nticipants not born in Finland were classified as immigrants (1st generation immigrant), whereas Finnish-born adolescents, whose both \\nparents were born in Finland, are referred to as native Finnish adolescents in the current study. Furthermore, if one or both of parents \\nwere not born in Finland, the participating adolescent was classified as an immigrant (2nd generation immigrant) ( European Com -\\nmission, Migration and Home Affairs, 2024 ). The definition of 2nd generation immigrant is complex, and this term refers to a very \\nheterogeneous population. However, for clarity, the immigrant group including both immigrant generations were processed as a single \\nimmigrant group in this study.\\nPsychosocial well-being\\nAdolescents ’ psychosocial well-being was measured using the Strengths and Difficulties Questionnaire (SDQ; Goodman, 2001 ), a \\n25-item questionnaire covering adolescents ’ externalizing symptoms (conduct problems, hyperactivity, and inattention) and inter -\\nnalizing symptoms (emotional symptoms and peer relationship problems) as well as prosocial behavior. SDQ is used for children and \\nadolescents aged 3 – 16 years and can be self-reported by youths from 11 years onwards. In the current study, the total sum variable \\n(Cronbach ’ s alpha = 0.79), calculated with the subscales excluding prosocial behavior subscale, with a maximum score of 40, was used \\nto reflect the total difficulties and adjustment. In addition, variables for externalizing (Cronbach ’ s alpha = 0.73) and internalizing \\n(Cronbach ’ s alpha = 0.75) symptoms with a maximum score of 20 were formed. A factor analysis and assessment of the suitability of \\nSDQ in the Finnish population were conducted by Peltonen et al. (2010) .\\nResponse integrity index\\nThe current study used three direct meta-questions about physical abuse, parental corporal punishment, and sexual abuse to assess \\nrespondents ’ response style (truthful or untruthful). The exact phrasing of the meta-questions was: “ If someone had ever attacked you \\nphysically, such as hit, kicked, or used a gun against you, do you think you would have reported it in this questionnaire? ” , with similar \\nphrasing for the two further meta-questions about parental corporal punishment and sexual abuse. These questions were presented to \\nevery respondent during the questionnaire, unrelated to their earlier answers about their victimization experiences. In this study, the \\nparticipants who had denied (by answering no) the target victimization question were included in further analyses. For example, if the \\nrespondent had answered the question about physical abuse, the corresponding meta-question was presented later in the question -\\nnaire. These questions were answered dichotomously (yes or no).\\nK. Lahti et al.                                                                                                                                                                                                           Child Abuse & Neglect 158 (2024) 107140 \\n4'),\n",
       " Document(metadata={'producer': 'Acrobat Distiller 8.1.0 (Windows)', 'creator': 'Elsevier', 'creationdate': '2024-12-05T14:24:32+00:00', 'crossmarkdomains[1]': 'elsevier.com', 'crossmarkmajorversiondate': '2010-04-23', 'creationdate--text': '5th December 2024', 'elsevierwebpdfspecifications': '7.0.1', 'robots': 'noindex', 'moddate': '2024-12-05T14:24:42+00:00', 'author': 'Katri Lahti', 'doi': '10.1016/j.chiabu.2024.107140', 'title': 'Victimization, immigration status, and psychosocial well-being: A representative study among finnish adolescents', 'keywords': 'Adolescence,Immigration,Victimization,Response integrity', 'subject': 'Child Abuse & Neglect, 158 (2024) 107140. doi:10.1016/j.chiabu.2024.107140', 'crossmarkdomains[2]': 'sciencedirect.com', 'crossmarkdomainexclusive': 'true', 'source': 'data/test_rag2.pdf', 'total_pages': 11, 'page': 4, 'page_label': '5'}, page_content='2.3. Statistical analysis\\nThe analyses were conducted using the IBM SPSS version 29 software package. The mediation analyses were calculated using SPSS \\nmodification, PROCESS macro ( Hayes, 2022 ). The number of victimization experiences over the lifetime was presented in a table and \\nthe differences between the means of immigrant and native Finnish adolescents were assessed using t -test for independent samples. \\nFurthermore, the proportions of experienced victimization types and the response tendencies in immigrant and native Finnish ado -\\nlescents were presented using crosstabulation, and the group differences were assessed using Chi-square test.\\nIn the mediation analysis, mediation model 4 with one mediator from SPSS PROCESS macro was used. In this model, the lifetime \\nvictimization variable was used as a mediator, mediating the relationship of immigration status (independent variable) to psychosocial \\nwell-being (dependent variable) measured with SDQ. The assumptions for the mediation model were tested before running the model. \\nThe correlations of other categorical variables were tested with Pearson correlation matrix before the analysis. The normal distribution \\nof the residuals for the continuous SDQ measure for psychosocial well-being was tested. For the categorical variable immigration status \\nand the lifetime victimization variable, normal distribution was not assumed since the range is too small. In our mediation analysis, \\npaths to the binary lifetime victimization were estimated with linear probability modeling. Paths to continuous SDQ measure were \\nestimated with linear regression, and the normality of the residuals ’ distribution was tested. For our models we report regression \\ncoefficients and corresponding standard errors (SE), p -values, and 95 % confidence intervals. For the indirect effect, we report only 95 \\n% confidence intervals instead of a p-value as suggested elsewhere (e.g. in Twisk, 2024 ).\\nMissing data\\nAltogether 5674 participants took part in the survey. For the purposes of this study, some of the respondents were excluded due to \\nclearly implausible responses considering some of the variables of interest (e.g. age over 20 years and very high outlier values for the \\ngiven range in other variables, such as school grades), leaving 5607 participants. All of these participants had answered the questions \\nabout victimization experiences and immigration status, and these are reported in the results section.\\nOf these 5607 participants, 5567 had answered the questions related to SDQ (number of missing values: 40, 0.7 %) and were used \\nfor the mediation analysis. Participants who dropped out before completing the SDQ ( n = 40) showed no gender differences. While \\nimmigrants were slightly more likely to drop out (1.5 % vs. 0.6 % for native Finns, Chi-square p < 0.01), the difference was small. \\nDropouts reported significantly more victimization experiences (M = 5.13, SD = 3.07) than continuing participants (M = 2.75, SD =\\n2.61), according to the Mann-Whitney U test (U = 62,092.00, z-value: \\x00 4.89, p < 0.001).\\nThe variables considering the response tendency were responded by 5402 participants (number of missing values: 205, 3.7 %) and \\nwere reported in the current study. Of those dropping out before the Response Integrity Index questions ( n = 205), boys (4.8 % vs. 2.4 \\n% for girls, Chi-square p < 0.01) and immigrants (6.1 % vs. 3.3 % for native Finns, Chi-square p < 0.001) were more likely to drop out. \\nDropouts also experienced more victimization (M = 3.72, SD = 3.05) than continuing participants (M = 2.73, SD = 2.60), according to \\nthe independent sample t -test (t-value: 4.66, p < 0.001). Missing data were not imputed due to the small group size differences.\\n3. Results\\n3.1. Sample characteristics\\nOf the participants, 49.8 % were girls and 48.5 % boys. A further 1.7 % of participants had stated their gender as “ other ” . Due to the \\nTable 1 \\nLifetime victimization type frequencies related to immigration status.\\nLifetime victimization % yes No immigration background (All n = 655, Boys n = 316, \\nGirls n = 324)\\nImmigration background (All n = 4952, Boys n = 2401, Girls n \\n= 2468)\\nAll Boys Girls All Boys Girls\\nDestruction of personal property 33.2 % 36.9 % 29.3 % 40.3 % *** 44.6 % ** 36.1 % *\\nViolent robbery 8.2 % 12.0 % 4.4 % 13.0 % *** 19.0 % *** 6.8 % ns\\nTheft of personal property 39.0 % 41.7 % 36.1 % 48.9 % *** 53.2 % *** 45.1 % **\\nBullying 40.4 % 34.9 % 45.4 % 41.4 % ns 37.0 % ns 45.1 % ns\\nThreats of violence 31.1 % 36.5 % 25.4 % 36.3 % ** 43.0 % * 29.9 % ns\\nPhysical abuse 24.6 % 32.0 % 16.9 % 28.6 % * 34.8 % ns 22.2 % *\\nHate crime 8.5 % 9.3 % 7.0 % 27.5 % *** 30.4 % *** 23.5 % ***\\nParental corporal punishment 21.9 % 18.9 % 24.8 % 24.4 % ns 21.5 % ns 27.2 % ns\\nCyberbullying 27.4 % 21.5 % 32.5 % 30.8 % ns 28.2 % ** 32.4 % ns\\nSexual abuse (adult) 6.9 % 1.5 % 12.2 % 11.6 % *** 4.4 % *** 17.6 % **\\nSexual abuse (peer) 13.3 % 5.1 % 21.4 % 15.9 % ns 7.0 % ns 24.1 % ns\\nInternet crime 14.5 % 11.1 % 17.5 % 14.8 % ns 13.0 % ns 16.0 % ns\\nNote. The significances of mean differences (Chi-square test) reported in the “ No immigration background ” columns were calculated between \\nimmigration groups and for each gender.\\n***\\np < 0.001.\\n**\\np < 0.01.\\n*\\np < 0.05.\\nK. Lahti et al.                                                                                                                                                                                                           Child Abuse & Neglect 158 (2024) 107140 \\n5'),\n",
       " Document(metadata={'producer': 'Acrobat Distiller 8.1.0 (Windows)', 'creator': 'Elsevier', 'creationdate': '2024-12-05T14:24:32+00:00', 'crossmarkdomains[1]': 'elsevier.com', 'crossmarkmajorversiondate': '2010-04-23', 'creationdate--text': '5th December 2024', 'elsevierwebpdfspecifications': '7.0.1', 'robots': 'noindex', 'moddate': '2024-12-05T14:24:42+00:00', 'author': 'Katri Lahti', 'doi': '10.1016/j.chiabu.2024.107140', 'title': 'Victimization, immigration status, and psychosocial well-being: A representative study among finnish adolescents', 'keywords': 'Adolescence,Immigration,Victimization,Response integrity', 'subject': 'Child Abuse & Neglect, 158 (2024) 107140. doi:10.1016/j.chiabu.2024.107140', 'crossmarkdomains[2]': 'sciencedirect.com', 'crossmarkdomainexclusive': 'true', 'source': 'data/test_rag2.pdf', 'total_pages': 11, 'page': 5, 'page_label': '6'}, page_content='small group size, the group “ other ” was not included in the analyses. Participants ’ mean age was 15.23 (SD = 0.42, range 15 – 16) years, \\nand by the time of the survey they were all in the 9th grade in elementary school. Two-thirds (66.7 %) of the participants lived in a \\nnuclear family. Of the 5607 participants, 216 were not born in Finland. Furthermore, the mother or father of 507 participants was not \\nborn in Finland. Altogether 655 participants (11.7 %) met the criteria of at least one of the parents or the participant himself/herself \\nnot being born in Finland, thus representing the immigration status group “ yes ” . The immigrant and native adolescent groups did not \\ndiffer from each other regarding age or gender.\\n3.2. Descriptive statistics of victimization and psychosocial well-being in the samples\\nIn the whole sample, the mean number of lifetime victimization experiences was 2.77 (SD = 2.63, range 0 – 12). The differences in \\nthe number of experienced victimization experiences between native Finnish adolescents and immigrant adolescents are presented in \\nTable 1 . Of the 12 types of victimization experiences in the questionnaire, immigrant adolescents had experienced significantly more \\nvictimization types (M = 3.34, SD = 2.88; p < 0.001, t-value: \\x00 5.45) than the native Finnish adolescents (M = 2.69, SD = 2.58). The \\nsame patterns were found and were statistically significant when comparing immigrant and native Finnish groups within both genders. \\nBoys with immigrant background had experienced a mean number of 3.36 victimization experiences (SD = 2.80), whereas boys native \\nFinnish background had experienced a mean number of 2.61 victimization experiences (SD = 2.53), this difference being significant (p \\n< 0.001, t-value: \\x00 4.49). For girls, the corresponding numbers were 3.26 (SD = 2.91) and 2.73 (SD = 2.60) ( p = 0.002, t-value: \\x00 3.12). \\nWithin both immigrant adolescent and native Finnish adolescent groups, the differences in the number of victimization experiences \\nbetween boys and girls did not reach significance.\\nThe differences between the exposure to the different victimization experiences during the life course between immigrant and \\nFinnish native adolescents are presented in Table 1 . Immigrant adolescents, both boys and girls, have experienced most of the events \\nmore often than the native youth, this result being significant considering property crimes, threats of and experiencing violence, hate \\ncrime and sexual abuse by an adult perpetrator.\\nRegarding psychosocial well-being, the mean of the SDQ total difficulties score was 11.02 (SD = 5.59, range 0 – 33) among all \\nparticipants. Furthermore, in the whole sample, the mean for the externalizing symptoms subscale was 5.71 (SD = 3.56) and for the \\ninternalizing symptoms subscale 5.31 (SD = 3.26). Immigrant adolescents and Finnish native adolescents had significantly different \\nscores in SDQ total difficulties and internalizing symptoms ( Table 2 ).\\n3.3. Mediation model\\nFirst, regarding the assumptions for the mediation model, the correlations between the variables were tested and the continuous \\nvariables lifetime victimization and psychosocial well-being correlated positively (0.44**), immigration status being a categorical \\nvariable, the correlation is not reported. Second, when the mediator was added, the association between immigration status X and \\npsychosocial well-being Y diminished. Lastly, the residuals of the continuous variable psychosocial well-being measured with SDQ \\ntotal score were normally distributed. The mediation model was run to test the mediating role of lifetime victimization experiences in \\nthe relationship between immigration status X and psychosocial well-being Y ( Fig. 1 ).\\nThe results of the analysis revealed a significant total effect of immigration status on psychosocial well-being (c = 0.48). \\nFurthermore, a significant indirect effect (a*b = 0.57) of immigration status on psychosocial well-being mediated through victimi -\\nzation experiences was found. In the presence of lifetime victimization as mediator M, the direct effect of immigration status on \\npsychosocial well-being is low and not significant (c ’ = \\x00 0.09). Therefore, lifetime victimization experiences fully mediated the \\nrelationship between immigration status and psychosocial well-being. A summary of the results of mediation analysis is provided in \\nTable 3 .\\n3.4. Differences in response tendencies\\nThe self-reported response tendencies of participants were assessed with the Response Integrity Index through three meta-questions \\nconsidering victimization experiences: physical abuse, parental corporal punishment, and sexual abuse by an adult perpetrator. The \\nrespondents were asked whether they would reveal in the current questionnaire if they had experienced specific victimization ex -\\nperiences. The answers from participants who had denied having experienced the target victimization experiences (physical abuse, \\nTable 2 \\nDifferences in SDQ mean scores between immigrant and Finnish native adolescents.\\nNo immigration background ( n = 4922) Immigration background ( n = 645)\\nMean (SD) Mean (SD) t-value 95 % CI p-value\\nSDQ total difficulties score 10.94 (5.57) 11.55 (5.72) \\x00 2.60 \\x00 1.07 to \\x00 1.50 **\\nExternalizing symptoms 5.68 (3.55) 5.94 (3.36) \\x00 1.79 \\x00 0.56 – 0.25 ns\\nInternalizing symptoms 5.27 (3.25) 5.61 (3.29) \\x00 2.50 \\x00 0.61 to \\x00 0.07 *\\nNote. In all scales, Levene ’ s test for equality of variances was not significant, and equal variances were assumed. Degrees of freedom = 5565.\\n**\\np < 0.01.\\n*\\np < 0.05.\\nK. Lahti et al.                                                                                                                                                                                                           Child Abuse & Neglect 158 (2024) 107140 \\n6'),\n",
       " Document(metadata={'producer': 'Acrobat Distiller 8.1.0 (Windows)', 'creator': 'Elsevier', 'creationdate': '2024-12-05T14:24:32+00:00', 'crossmarkdomains[1]': 'elsevier.com', 'crossmarkmajorversiondate': '2010-04-23', 'creationdate--text': '5th December 2024', 'elsevierwebpdfspecifications': '7.0.1', 'robots': 'noindex', 'moddate': '2024-12-05T14:24:42+00:00', 'author': 'Katri Lahti', 'doi': '10.1016/j.chiabu.2024.107140', 'title': 'Victimization, immigration status, and psychosocial well-being: A representative study among finnish adolescents', 'keywords': 'Adolescence,Immigration,Victimization,Response integrity', 'subject': 'Child Abuse & Neglect, 158 (2024) 107140. doi:10.1016/j.chiabu.2024.107140', 'crossmarkdomains[2]': 'sciencedirect.com', 'crossmarkdomainexclusive': 'true', 'source': 'data/test_rag2.pdf', 'total_pages': 11, 'page': 6, 'page_label': '7'}, page_content='parental corporal punishment, and sexual abuse by an adult) were reported. Table 4 presents the response tendencies among immi -\\ngrant and native Finnish adolescents. Compared with native adolescents, a larger number of immigrant adolescents who had denied \\nhaving these victimization experiences reported that they would not have disclosed them in the questionnaire.\\n4. Discussion\\nThis study aimed to compare the number and type of victimization experiences, the psychosocial well-being, and the mediating \\neffect of lifetime victimization experiences between immigrant and native Finnish adolescents in a large population-based sample. In \\naddition, an analysis of adolescents ’ response tendencies was performed for the first time to develop a preliminary understanding of \\nresponse bias in both immigrant and native Finnish adolescents.\\nIn 2022, there were approximately 476,900 residents in Finland with a foreign background (1st and 2nd generation immigrants), \\naccounting for nearly 9 % of the Finnish population (total population 5.6 million). The most common foreign origin countries were the \\nformer Soviet Union, Iraq, and Somalia ( Official Statistics of Finland, 2024 ). Approximately one-fourth of these individuals with a \\nforeign background are children and adolescents, and conversely, 11 % of the 12- to 19-year-olds in Finland have an immigrant \\nbackground ( Eid & Castaneda, 2023 ).\\n4.1. Immigration status was related to the number and type of victimization\\nA significant (albeit modest) difference in the total number of victimization experiences between immigrant and Finnish native \\nadolescents emerged. When examining variations in the extent of experienced victimization across specific types, immigrant ado -\\nlescents reported encountering a higher frequency of all 12 victimization types included in the questionnaire. The differences were \\nFig. 1. Mediation model with immigration status (yes or no) as an independent variable, psychosocial well-being (measured with SDQ total score) \\nas a dependent variable, and lifetime victimization (range 0 – 12) as a mediator variable.\\nTable 3 \\nMediation analysis relationships between variables ( n = 5567).\\nTotal effect c Estimate SE p-value 95 % CI\\nImmigration status ➔ Psychosocial well-being 0.48 0.23 0.04* 0.03 – 0.93\\nIndirect effect a*b Estimate SE p-value 95 % CI\\nImmigration status ➔ Lifetime Victimization ➔ Psychosocial well-being 0.57 0.11 See CI 0.36 – 0.80\\nDirect effect c ’ Estimate SE p-value 95 % CI\\nImmigration status ➔ Psychosocial well-being \\x00 0.09 0.21 0.65 (ns) \\x00 0.50 – 0.31\\nNote. Gender was used as a covariate.\\nTable 4 \\nResponse Integrity Index item answers in different immigration status groups.\\nResponse Integrity Index item No immigration background Immigration background\\nAll Boys Girl All Boys Girls\\nPhysical abuse: % no 6.2 % 8.4 % 4.2 % 12.4 % *** 15.6 % ** 8.2 % **\\nParental corporal punishment: % no 10.2 % 11.1 % 9.0 % 18.2 % *** 21.1 % *** 14.0 % *\\nSexual abuse (adult): % no 9.1 % 10.6 % 7.5 % 12.7 % * 9.3 % * 15.5 % ns\\nNote. The response tendencies are reported among participants who denied experiencing the target event (physical abuse n = 4201, parental corporal \\npunishment n = 4363, sexual abuse (adult) n = 5188) during their lifetime. The reported percentage represents the number of no-answers to the \\nquestion of whether the respondent would disclose if he or she had experienced this kind of victimization. The significances of mean differences (Chi- \\nsquare test) in the “ No immigration background ” columns were calculated between immigration groups and for both genders.\\n***\\np < 0.001.\\n**\\np < 0.01.\\n*\\np < 0.05.\\nK. Lahti et al.                                                                                                                                                                                                           Child Abuse & Neglect 158 (2024) 107140 \\n7'),\n",
       " Document(metadata={'producer': 'Acrobat Distiller 8.1.0 (Windows)', 'creator': 'Elsevier', 'creationdate': '2024-12-05T14:24:32+00:00', 'crossmarkdomains[1]': 'elsevier.com', 'crossmarkmajorversiondate': '2010-04-23', 'creationdate--text': '5th December 2024', 'elsevierwebpdfspecifications': '7.0.1', 'robots': 'noindex', 'moddate': '2024-12-05T14:24:42+00:00', 'author': 'Katri Lahti', 'doi': '10.1016/j.chiabu.2024.107140', 'title': 'Victimization, immigration status, and psychosocial well-being: A representative study among finnish adolescents', 'keywords': 'Adolescence,Immigration,Victimization,Response integrity', 'subject': 'Child Abuse & Neglect, 158 (2024) 107140. doi:10.1016/j.chiabu.2024.107140', 'crossmarkdomains[2]': 'sciencedirect.com', 'crossmarkdomainexclusive': 'true', 'source': 'data/test_rag2.pdf', 'total_pages': 11, 'page': 7, 'page_label': '8'}, page_content='particularly pronounced and significant for destruction or theft of personal property, violent robbery, hate crime, and physical and \\nsexual abuse.\\nIn some studies, differences in experienced victimization have been found between immigrant and native populations ( K ¨a ¨ari ¨ainen \\net al., 2010 ), whereas in others the results have suggested no difference ( Xie & Baumer, 2020 ). These findings underscore the \\nimportance of conducting additional research to explore the relationship between immigration status and victimization. Previous \\nstudies have suggested that foreign-born status may serve as a protective factor against criminal victimization ( Xie & Baumer, 2020 ), \\nwhile other reports have indicated that certain ethnic backgrounds may be more vulnerable to victimization ( Taylor et al., 2007 ).\\nThe high numbers in experienced hate crimes are in line with earlier research confirming adolescents with immigrant background \\nto report more bullying experiences related to their race or religion ( Sulkowski et al., 2014 ). Surprisingly, no significant difference \\nemerged in experienced bullying (or cyberbullying), which has been repeatedly found elsewhere ( Alivernini et al., 2019 ; Finnish \\nInstitute of Health and Welfare, 2021 ; Hong et al., 2021 ; Iannello et al., 2024 ; Stevens et al., 2020 ; Strohmeier et al., 2011 ). This might \\nbe due to the different framing of the questions in these studies, as in the current study, hate crime was assessed separately from \\nbullying, whereas in other studies, such as those focusing on the racist or discriminatory aspects of bullying, these elements have often \\nbeen included in questions about general bullying. In this study, there were two questions about bullying and cyberbullying ( “ Has \\nanyone ever bullied you at school or on your way to school? ” and “ Has anyone ever threatened or deliberately insulted you via e-mail, \\ntext message, on internet forums or elsewhere on social media? ” ). Hate crime was assessed with one question: “ Has anyone ever \\nthreatened you with violence or committed physical violence against you because of your language, race, religion, your opinions or for \\nsimilar reasons? ”\\nResults of the current study did not reveal differences in the prevalence of corporal punishment between native Finnish and \\nimmigrant adolescents, even though there is some support for corporal punishment being more prevalent in families with immigration \\nbackground (e.g. Fr ´echette & Romano, 2015 ). Higher rates of use of corporal punishment have been reported in African American \\nfamilies than in Hispanic or non-Hispanic families ( MacKenzie et al., 2011 ; Regalado et al., 2004 ), although there is conflicting ev -\\nidence in some studies ( Lee & Altschul, 2015 ).\\nIn the Finnish School Health Promotion Survey ( Finnish Institute of Health and Welfare, 2021 ), immigrant adolescents in the 8th \\nand 9th grades also more often reported being sexual harassed than adolescents of Finnish background, which is in line with the results \\nhere. Furthermore, in the study of Strohmeier et al. (2011) Finnish schoolchildren with an immigrant background had experienced \\nmore peer victimization that included sexual victimization, but this finding was not replicated in this study when asking about the \\nexperiences of sexual victimization by peers.\\n4.2. Victimization experiences mediated the relationship of immigration status to psychosocial well-being\\nIn the mediation analysis, lifetime victimization experiences fully mediated the relationship between immigrant status and psy -\\nchosocial well-being. Initially, the total effect was significant, but upon adding the mediator, the direct effect lost significance. Instead, \\na significant indirect effect, mediated through lifetime victimization experiences, was found. When comparing the psychosocial well- \\nbeing in both groups, immigrant adolescents had slightly, but significantly, more psychosocial distress. According to the results of this \\nmediation analysis, victimization experiences have an important role in the relationship between immigration status and psychosocial \\nwell-being.\\n4.3. Immigrant adolescents were less likely to disclose their victimization experiences\\nThis study utilized the Response Integrity Index ( Hibell et al., 2012 ; Johnston et al., 1994 ; Kivivuori et al., 2013 ; Laajasalo et al., \\n2016 ) questions to compare response styles and willingness to disclose victimization experiences in immigrant and native Finnish \\nadolescent groups. Across the three questions reflecting specific abuse types, immigrant participants were more likely to report that \\nthey would not have disclosed these experiences, even had they experienced this kind of victimization. These results are consistent \\nwith earlier research on response styles of immigrant adolescents to delinquent behavior ( van Batenburg-Eddes et al., 2012 ). As there \\nare many stressors inherent to the migration and integration process, the issue of trust is particularly relevant in this population, and \\ndistrust of research has been identified as one barrier to participating in research among immigrant populations ( Zeisler et al., 2020 ). \\nDespite the anonymity of the survey, our results might reflect immigrant adolescents ’ fear of exposure and consequences, mistrust of \\nauthorities, and other cultural issues. This might lead to underestimation of victimization experiences and other sensitive topics \\nassessed through surveys in the vulnerable group of immigrant adolescents. Further, incomplete reporting may obscure the true extent \\nof the effects of victimization, leading to skewed or underestimated conclusions about the relationship between victimization and well- \\nbeing outcomes.\\n4.4. Strengths and limitations\\nThis study has several major strengths, including the large population-based sample, representing 9th grade Finnish adolescents \\naged 15 – 16 years. This age range offers limited possibilities for generalizing the results to a wider spectrum of adolescents. The an -\\nonymity of the questionnaire provides an opportunity to report sensitive topics without consequences.\\nSome limitations of the study must also be addressed. The data were drawn from a cross-sectional study, where information had \\nbeen gathered from a specific time point in adolescents ’ lives. This requires even more caution when interpreting the results and when \\nconsidering the relationships between study variables. Cross-sectional studies have several limitations such as their vulnerability to \\nK. Lahti et al.                                                                                                                                                                                                           Child Abuse & Neglect 158 (2024) 107140 \\n8'),\n",
       " Document(metadata={'producer': 'Acrobat Distiller 8.1.0 (Windows)', 'creator': 'Elsevier', 'creationdate': '2024-12-05T14:24:32+00:00', 'crossmarkdomains[1]': 'elsevier.com', 'crossmarkmajorversiondate': '2010-04-23', 'creationdate--text': '5th December 2024', 'elsevierwebpdfspecifications': '7.0.1', 'robots': 'noindex', 'moddate': '2024-12-05T14:24:42+00:00', 'author': 'Katri Lahti', 'doi': '10.1016/j.chiabu.2024.107140', 'title': 'Victimization, immigration status, and psychosocial well-being: A representative study among finnish adolescents', 'keywords': 'Adolescence,Immigration,Victimization,Response integrity', 'subject': 'Child Abuse & Neglect, 158 (2024) 107140. doi:10.1016/j.chiabu.2024.107140', 'crossmarkdomains[2]': 'sciencedirect.com', 'crossmarkdomainexclusive': 'true', 'source': 'data/test_rag2.pdf', 'total_pages': 11, 'page': 8, 'page_label': '9'}, page_content='response bias and the difficulty for participants to recall target events in the questionnaire. In this study, it might be especially \\ntroublesome for participants when trying to recall victimization experiences. Therefore, longitudinal studies assessing victimization \\nexperiences and psychosocial well-being in immigrant adolescents are warranted. In addition to the cross-sectional nature of the \\ncurrent study, the responses of participants were based on a self-evaluation questionnaire, as the participants themselves reported, \\namong other sensitive topics in the survey, their victimization experiences. Although the survey was anonymous, some bias might still \\nappear, and these response tendencies, especially among immigrant adolescents, have been discussed earlier in the paper. These \\ndifficulties might alter participants ’ willingness to answer the questions truthfully, therefore affecting the reliability of the study.\\nConsidering the core variables measured in this study, victimization experiences were evaluated based on the types of victimization \\nencountered rather than the frequency of individual events. Consequently, participants reporting the same number of different \\nvictimization types may vary in the potential trauma and burden associated with these events. Based on these data, the seriousness and \\nintensity of the experiences were not assessed. Further, comparisons with other studies sharing similar interests are complicated by \\nvariations in how victimization experiences were queried. In some studies, for example, the questions about hate crime are presented \\nseparately, and in other studies they are included in the questions about bullying in the form of religion- or racial-related bullying \\n( Maynard et al., 2016 ). These questions, in turn, might in some cases also encompass the description of a hate crime. Furthermore, the \\nassessment of number, intensity, and seriousness of the victimization experiences varies among studies, and therefore, the victimi -\\nzation rates are not directly comparable. Regarding the measurement of psychosocial well-being, a recent study with nationally \\nrepresentative data of Finnish adolescents suggested the revision of the SDQ and advised caution when using it in research \\n( Kankaanp ¨a ¨a et al., 2023 ).\\nIn addition, the classification of immigrants is not consistent among the studies, and especially in the current study, knowledge \\nabout the more detailed backgrounds of immigrants is lacking, and therefore, the situations of the adolescents and their families may \\ndiffer greatly from each other. In this study, we decided to combine the 1st and 2nd generation immigrants to provide us with a larger \\nnumber of participants in the immigrant adolescent group. Therefore, we did not distinguish between 1st and 2nd generation im -\\nmigrants or consider various ethnic backgrounds, limiting the potential to obtain more detailed information regarding victimization \\nrates within specific immigrant populations. Yet, according to Eid and Castaneda (2023) , most of the children and adolescents of \\nimmigrant background (78 %) were born in Finland and represent 2nd generation immigrants, while only 22 % were not born in \\nFinland, being 1st generation immigrants. They emphasize the vast heterogeneity within adolescent immigrants and their families, \\ncautioning against oversimplified generalizations due to the diverse reasons for immigration. In addition, the subjective feeling of \\nbelongingness to a specific ethnic group, the reason for immigration to Finland, and the level of Finnish language skills were not \\nassessed in the current study, and all of these factors might have had an impact on the prejudices the participants face. From a trauma \\nperspective, it very likely makes a difference whether a person comes to Finland as a refugee from a war zone or because of labor \\nimmigration ( Lindert et al., 2009 ). Future studies assessing immigrant victimization are invited to conquer the limitations identified \\nhere.\\n4.5. Implications\\nThis study reveals that both native Finnish adolescents and those with an immigrant background continue to face adverse events in \\nFinland, a finding consistent with previous research ( Kaakinen & N ¨asi, 2021 ; Mielityinen et al., 2023 ). It appears that immigrant \\nadolescents are more likely to experience several types of adverse events compared to their native Finnish peers and according to the \\ncurrent study, it applies for both native Finnish adolescents and adolescents with an immigrant background. This highlights the need \\nfor both preventive and interventive efforts, including raising awareness on reporting and support systems as well as children ’ s rights, \\nfor immigrant adolescents and their social environment – such as parents, teachers, and healthcare professionals – to better identify \\nand support at-risk adolescents.\\nUnfortunately, interventions specifically targeted at immigrant adolescents at risk for victimization are rare. Most existing in -\\nterventions, such as trauma-focused cognitive behavioral therapy, are designed for use after victimization has occurred. A systematic \\nreview revealed a lack of immigrant inclusive interventions and found no interventions adapted for immigrants addressing especially \\ndomestic violence or childhood mental health ( Finno-Velasquez et al., 2022 ). However, culturally sensitive early interventions and \\ninformation – for families (e.g. Osman et al., 2019 ) and youth, for example on children ’ s rights, as well as for healthcare and social \\nworkers, teachers, and other professionals working with these individuals – may prove beneficial. In the Scandinavian context, recent \\nattempts aim to support immigrant families through interventions, such as peer support for immigrant mothers in Sweden ( Kåks et al., \\n2024 ). In addition to supporting parents, the psychosocial support involving immigrant adolescents directly should be enhanced and \\nthe attainment of cultural sensitivity skills of health care and social workers strengthened. Finally, our findings suggest victimization \\nexperiences may be underreported in self-report studies, particularly among vulnerable youth, emphasizing the need for a sophisti -\\ncated approach to gathering and interpreting self-report survey data. For immigrant youth, this underlines the importance of the \\npossibility to answer the self-report surveys in their own, native language, and paying attention to the culturally valid instructions \\nwhen using self-report surveys.\\n4.6. Conclusion\\nThis study contributes to adolescent victimization research with a focus on immigrant adolescents. According to our results, \\nimmigrant adolescents experience more victimization than native adolescents especially in specific victimization types such as \\nproperty crimes, hate crimes, and physical and sexual abuse. Furthermore, they are more unwilling to disclose their experiences even \\nK. Lahti et al.                                                                                                                                                                                                           Child Abuse & Neglect 158 (2024) 107140 \\n9'),\n",
       " Document(metadata={'producer': 'Acrobat Distiller 8.1.0 (Windows)', 'creator': 'Elsevier', 'creationdate': '2024-12-05T14:24:32+00:00', 'crossmarkdomains[1]': 'elsevier.com', 'crossmarkmajorversiondate': '2010-04-23', 'creationdate--text': '5th December 2024', 'elsevierwebpdfspecifications': '7.0.1', 'robots': 'noindex', 'moddate': '2024-12-05T14:24:42+00:00', 'author': 'Katri Lahti', 'doi': '10.1016/j.chiabu.2024.107140', 'title': 'Victimization, immigration status, and psychosocial well-being: A representative study among finnish adolescents', 'keywords': 'Adolescence,Immigration,Victimization,Response integrity', 'subject': 'Child Abuse & Neglect, 158 (2024) 107140. doi:10.1016/j.chiabu.2024.107140', 'crossmarkdomains[2]': 'sciencedirect.com', 'crossmarkdomainexclusive': 'true', 'source': 'data/test_rag2.pdf', 'total_pages': 11, 'page': 9, 'page_label': '10'}, page_content='in an anonymous questionnaire, which means that their victimization experiences might be underestimated. As victimization expe -\\nriences play a crucial role in explaining the relationship between immigrant status and psychosocial well-being, the findings under -\\nscore the importance of addressing and mitigating the impact of these experiences on the psychosocial well-being of immigrant \\nadolescents via clinical interventions and policies.\\nCRediT authorship contribution statement\\nKatri Lahti: Writing – review & editing, Writing – original draft, Project administration, Methodology, Formal analysis, \\nConceptualization. Taina Laajasalo: Writing – review & editing, Writing – original draft, Supervision, Formal analysis, Conceptu -\\nalization. Heidi Backman: Writing – review & editing, Writing – original draft, Supervision, Formal analysis, Conceptualization. Kirsi \\nPeltonen: Writing – review & editing, Conceptualization. Markus Kaakinen: Writing – review & editing, Project administration, \\nMethodology, Funding acquisition, Data curation, Conceptualization. Eeva T. Aronen: Writing – review & editing, Writing – original \\ndraft, Supervision, Conceptualization.\\nFunding\\nThis work was supported by the Foundation for Pediatric Research and the Helsinki University Hospital Research Funds [grant \\nnumber TYH2021301].\\nDeclaration of competing interest\\nThe authors report there are no competing interests to declare.\\nData availability\\nThe data that has been used is confidential. \\nReferences\\nAlisic, E., Zalta, A. K., van Wesel, F., Larsen, S. E., Hafstad, G. S., Hassanpour, K., & Smid, G. E. (2014). Rates of post-traumatic stress disorder in trauma-exposed \\nchildren and adolescents: meta-analysis. The British Journal of Psychiatry, 204 , 335 – 340. https://doi.org/10.1192/bjp.bp.113.131227\\nAlivernini, F., Manganelli, S., Cavicchiolo, E., & Lucidi, F. (2019). Measuring bullying and victimization among immigrant and native primary school students: \\nEvidence from Italy. Journal of Psychoeducational Assessment, 37 (2). https://doi.org/o0r.g1/107.171/077/3047324828921971773322890 .\\nEid, M., & Castaneda, A. (2023). Ulkomaalaistaustaisten nuorten hyvinvointi tutkimusten ja tilastojen valossa .\\nEuropean Commission : Migration and Home Affairs . Retrieved 21.5.2024 from https://home-affairs.ec.europa.eu/networks/european-migration-network-emn/emn- \\nasylum-and-migration-glossary/glossary/second-generation-migrant_en .\\nFandrem, H., Strohmeier, D., & Roland, E. (2009). Bullying and victimization among native and immigrant adolescents in Norway: The role of proactive and reactive \\naggressiveness. Journal of Early Adolescence, 29 (6), 898 – 923. https://doi.org/10.1177/0272431609332935\\nFinkelhor, D., Ormrod, R. K., & Turner, H. A. (2009). Lifetime assessment of poly-victimization in a national sample of children and youth. Child Abuse and Neglect, 33 \\n(7), 403 – 411. https://doi.org/10.1016/j.chiabu.2008.09.012\\nFinnish Institute of Health and Welfare. (2021). School Health Promotion Study https://thl.fi/en/web/thlfi-en/research-and-development/research-and-projects/ \\nschool-health-promotion-study .\\nFinno-Velasquez, M., Sepp, S. M., Lopez, A., Aquino, E., Cherie, N., & Ortiz-Upston, M. (2022). Child maltreatment prevention interventions for Latinx immigrant \\npopulations: A systematic review. Journal of Public Child Welfare, 17 (4), 845 – 878. https://doi.org/10.1080/15548732.2022.2118929\\nFr ´echette, S., & Romano, E. (2015). Change in corporal punishment over time in a representative sample of Canadian parents. Journal of Family Psychology, 29 (4), \\n507 – 517. https://doi.org/10.1037/fam0000104\\nFriedman, M. (2016). Authoritarian parenting attitudes and social origin: The multigenerational relationship of socioeconomic position to childrearing values. Child \\nAbuse and Neglect, 51 , 263 – 275. https://doi.org/10.1016/j.chiabu.2015.10.001\\nGoodman, R. (2001). Psychometric properties of the strengths and difficulties questionnaire. Journal of the American Academy of Child and Adolescent Psychiatry, 40 \\n(11), 1337 – 1345. https://doi.org/10.1097/00004583-200111000-00015\\nHayes, A. F. (2022). Introduction to mediation, moderation and conditional process analysis - A regression-based approach (3rd ed.). The Guilford Press . \\nHibell, B., Guttormsson, U., Ahlstrom, S., Balakireva, O., Bjarnason, Þ ., Kokkevi, A., & Kraus, L. (2012). The 2011 ESPAD report: Substance use among students in 36 \\nEuropean countries. In ESPAD Report . CAN: The Swedish Council for Information on Alcohol and Other Drugs. http://www.espad.org/sites/espad.org/files/The_ \\n2011_ESPAD_Report_FULL_2012_10_29.pdf . \\nHong, J. S., Dong, H. K., Burlaka, V., Peguero, A. A., Padilla, Y. C., & Espelage, D. L. (2021). Bullying victimization and internalizing problems of foreign-born and U. \\nS.-born Latino/Hispanic and Asian adolescents in the United States: The moderating role of parental monitoring. Journal of the Society for Social Work and \\nResearch, 12 (3), 445 – 464. https://doi.org/10.1086/715891\\nHong, J. S., Jungup, L., Caravita, S. C., Kim, S. E., & Peguero, A. A. (2022). Risk behaviors as correlates of victimization of U.S.-born and foreign-born Asian, black, and \\nLatinx adolescents in the United States. New Directions for Child and Adolescent Development, 2022 (185 – 186), 67 – 90. https://doi.org/10.1002/cad.20486\\nHughes, K., Bellis, M. A., Hardcastle, K. A., Sethi, D., Butchart, A., Mikton, C., … Dunne, M. (2017). The effect of multiple adverse childhood experiences on health: A \\nsystematic review and meta-analysis. The Lancet Public Health, 2 (8), e356 – e366. https://doi.org/10.1016/S2468-2667(17)30118-4\\nIannello, N. M., Caravita, S., Papotti, N., Gelati, C., & Camodeca, M. (2024). Social anxiety and bullying victimization in children and early adolescents: The role of \\ndevelopmental period and immigrant status. Journal of Youth and Adolescence, 53 , 130 – 141. https://doi.org/10.1007/s10964-023-01865-9\\nJia, Y., Konold, T. R., Cornell, D., & Huang, F. (2018). The impact of validity screening on associations between self-reports of bullying victimization and student \\noutcomes. Educational and Psychological Measurement, 78 (1), 80 – 102. https://doi.org/10.1177/0013164416671767\\nJohnston, L. D., O ’ Malley, P. M., & Bachman, J. G. (1994). National Survey Results on drug use from the monitoring the future study, 1975 – 1993 . Department of Health \\nand Human Services, National Institutes of Health: P. H. S. U.S. https://monitoringthefuture.org/wp-content/uploads/2022/08/mtf-vol2_1993.pdf . \\nKaakinen, M. (Ed.). (2021). Nuorisorikollisuus . Kriminologian ja oikeuspolitiikan instituutti: Helsingin yliopisto . \\nKaakinen, M., Kivivuori, J., Enzmann, D., Raeste, A., & N ¨asi, M. (2022). School and home-based responding in an online youth crime survey: A natural experiment \\nrelated to school lockdown in spring 2020. Nordic Journal of Criminology, 1-13 . https://doi.org/10.1080/2578983X.2022.2097901\\nKaakinen, M., & N ¨asi, M. (2021). Nuorten rikosk ¨aytt ¨aytyminen ja uhrikokemukset , 2020. https://doi.org/978-951-51-0684-1 .\\nK. Lahti et al.                                                                                                                                                                                                           Child Abuse & Neglect 158 (2024) 107140 \\n10'),\n",
       " Document(metadata={'producer': 'Acrobat Distiller 8.1.0 (Windows)', 'creator': 'Elsevier', 'creationdate': '2024-12-05T14:24:32+00:00', 'crossmarkdomains[1]': 'elsevier.com', 'crossmarkmajorversiondate': '2010-04-23', 'creationdate--text': '5th December 2024', 'elsevierwebpdfspecifications': '7.0.1', 'robots': 'noindex', 'moddate': '2024-12-05T14:24:42+00:00', 'author': 'Katri Lahti', 'doi': '10.1016/j.chiabu.2024.107140', 'title': 'Victimization, immigration status, and psychosocial well-being: A representative study among finnish adolescents', 'keywords': 'Adolescence,Immigration,Victimization,Response integrity', 'subject': 'Child Abuse & Neglect, 158 (2024) 107140. doi:10.1016/j.chiabu.2024.107140', 'crossmarkdomains[2]': 'sciencedirect.com', 'crossmarkdomainexclusive': 'true', 'source': 'data/test_rag2.pdf', 'total_pages': 11, 'page': 10, 'page_label': '11'}, page_content='K ¨a ¨ari ¨ainen, J., Ellonen, N., Peutere, L., & Sariola, H. (2010). Lapset ja nuoret v ¨akivallan uhreina: maahanmuuttajien ja kantasuomalaisten vertailua. \\nYhteiskuntapolitiikka, 75 (2), 159 – 174 .\\nKåks, P., Katzen, L. S., Målqvist, M., Bergstr ¨om, A., & Herzig van Wees, S. (2024). Implementing a social innovation for community-based peer support for immigrant \\nmothers in Sweden: A mixed methods process evaluation. Frontiers . Public Health, 11 . https://doi.org/10.3389/fpubh.2023.1332738\\nKankaanp ¨a ¨a, R., T ¨ott ¨o, P., Punam ¨aki, R.-L., & Peltonen, K. (2023). Is it time to revise the SDQ? The psychometric evaluation of the strengths and difficulties \\nquestionnaire. Psychological Assessment, 35 (12), 1069 – 1084. https://doi.org/10.1037/pas0001265\\nKivivuori, J., Salmi, V., & Walser, S. (2013). Supervision mode effects in computerized delinquency surveys at school: Finnish replication of a Swiss experiment. \\nJournal of Experimental Criminology, 9 , 91 – 107. https://doi.org/10.1007/s11292-012-9162-z\\nKuper, J. L., & Turanovic, J. J. (2022). Trauma made in America: The consequences of violent victimization for immigrant youth in early adulthood. Research on \\nAdolescence, 32 (4), 1484 – 1499. https://doi.org/10.1111/jora.12718\\nLaajasalo, T., Aronen, E. T., Saukkonen, S., Salmi, V., Aaltonen, M., & Kivivuori, J. (2016). To tell or not to tell? Psychopathic traits and response integrity in youth \\ndelinquency surveys. Criminal Behaviour and Mental Health, 26 , 81 – 93. https://doi.org/10.1002/cbm\\nLee, S., & Altschul, I. (2015). Spanking of young children: Do immigrant and U.S.-born Hispanic parents differ? Journal of Interpersonal Violence, 30 (3), 475 – 498. \\nhttps://doi.org/10.1177/0886260514535098\\nLehti, M., Salmi, V., Aaltonen, M., Danielsson, P., Hinkkanen, V., Niemi, H., Sir ´en, R., & Suonp ¨a ¨a, K. (2014). Maahanmuuttajat rikosten uhreina ja tekij ¨oin ¨a, 265 .\\nLindert, J., Ehrenstein, O. S., Priebe, S., Mielck, A., & Br ¨ahler, E. (2009). Depression and anxiety in labor migrants and refugees — A systematic review and meta- \\nanalysis. Social Science & Medicine, 69 (2), 246 – 257. https://doi.org/10.1016/j.socscimed.2009.04.032\\nLorber, M. F., O ’ Leary, S. G., & Smith Slep, A. M. (2011). An initial evaluation of the role of emotion and impulsivity in explaining racial/ethnic differences in the use \\nof corporal punishment. Developmental Psychology, 47 (6), 1744 – 1749. https://doi.org/10.1037/a0025344\\nMacKenzie, M. J., Nicklas, E., Brooks-Gunn, J., & Waldfogel, J. (2011). Who spanks infants and toddlers? Evidence from the fragile families and child well-being study. \\nChildren and Youth Services Review, 33 (8), 1364 – 1373. https://doi.org/10.1016/j.childyouth.2011.04.007\\nMarks, A. K., Ejesi, K., & Coll, C. G. (2014). Understanding the U.S. immigrant paradox in childhood and adolescence. Child Development Perspectives, 8 (2), 59 – 64. \\nhttps://doi.org/10.1111/cdep.12071\\nMaynard, B. R., Vaughn, M. G., Salas-Wrigth, C. P., & Vaughn, S. (2016). Bullying victimization among school-aged immigrant youth in the United States. Journal of \\nAdolescent Health, 58 , 337 – 344. https://doi.org/10.1016/j.jadohealth.2015.11.013\\nMcCann, W. S., & Boateng, F. D. (2022). An analysis of hate crime victimization amongst immigrants. American Journal of Criminal Justice, 47 , 795 – 817. https://doi. \\norg/10.1007/s12103-021-09616-x\\nMcLaughlin, K. A., Koenen, K. C., Hill, E. D., Petukhova, M., Sampson, N. A., Zaslavsky, A. M., & Kessler, R. C. (2013). Trauma exposure and posttraumatic stress \\ndisorder in a national sample of adolescents. Journal of the American Academy of Child & Adolescent Psychiatry, 52 (8), 815 – 830. https://doi.org/10.1016/j. \\njaac.2013.05.011\\nMehus, C. J., & Patrick, M. E. (2020). Prevalence of spanking in US National Samples of 35-year-old parents from 1993 to 2017. JAMA Pediatrics, 175 (1), 92 – 94. \\nhttps://doi.org/10.1001/jamapediatrics.2020.2197\\nMielityinen, L., Hautam ¨aki, S., Hakala, V., Fagerlund, M., & Ellonen, N. (2023). Lasten ja nuorten v ¨akivaltakokemukset 2022: m ¨a ¨ar ¨at, piirteet ja niiden muutokset \\n1988 – 2022. 5 pp. 24 – 116). Sosiaali- ja terveysministeri ¨on julkaisuja) .\\nMiller, M., Halgunseth, L. C., Csizmadia, A., & Brenick, A. (2022). The role of participant immigrant background and gender in middle school Youth ’ s responses to \\nactual and hypothetical experiences of Bias-based bullying. The Journal of Genetic Psychology, 183 (5), 446 – 464. https://doi.org/10.1080/ \\n00221325.2022.2095250\\nOfficial Statistics of Finland. (2024, 11.5.2023). Population and society: Population by origin and language, 2022 . Retrieved 25.3.2024 from https://www.tilastokeskus. \\nfi/tup/suoluk/suoluk_vaesto_en.html#Population%20by%20origin%20and%20language ,%202019.\\nOsman, F., Flacking, R., & M., K. A., & Sch ¨on, U.-K.. (2019). Qualitatiove study shows that a culturally tailored parenting programme improved the confidence and \\nskills of Somali immigrants. Acta Paediatrica, 108 , 1482 – 1490. https://doi.org/10.1111/apa.14788\\nPeltonen, K., Ellonen, N., Larsen, H. B., & Helweg-Larsen, K. (2010). Parental violence and adolescent mental health. European Child & Adolescent Psychiatry, 19 (11), \\n813 – 822. https://doi.org/10.1007/s00787-010-0130-8\\nPottie, K., Dahal, G., Georgiades, K., Premji, K., & Hassan, G. (2015). Do first generation immigrant adolescents face higher rates of bullying, violence and suicidal \\nBehaviours than do third generation and native born? Journal of Immigrant and Minority Health, 17 , 1557 – 11566. https://doi.org/10.1007/s10903-014-0108-6\\nRegalado, M., Sareen, H., Inkelas, M., Wissow, L. S., & Halfron, N. (2004). Parents ’ discipline of young children: Results from the National Survey of early childhood \\nhealth. Pediatrics, 113 (6), 1952 – 1958 .\\nSariola, H., & Ellonen, N. (2008). Perheess ¨a koettu v ¨akivalta (Vol. Poliisiammattikorkeakoulun raportteja 71/2008; Oikeuspoliittisen tutkimuslaitoksen \\ntutkimustiedonantoja 87). Poliisiammattikorkeakoulu; Oikeuspoliittinen tutkimuslaitos.\\nSaunders, N. R., Guan, J., Macpherson, A., Lu, H., & Guttman, A. (2020). Association of Immigrant and Refugee Status with Risk Factors for exposure to violent assault \\namong youths and young adults in Canada. JAMA Network Open, 3 (3), Article e200375. https://doi.org/10.1001/jamanetworkopen.2020.0375\\nSchonkoff, J. P., & Garner, A. S. (2012). The lifelong effects of early childhood adversity and toxic stress. Pediatrics, 129 (1), e232 – e246. https://doi.org/10.1542/ \\npeds.2011-2663\\nStevens, G. W. J. M., Boer, M., Titzmann, P. F., Cosma, A., & Walsh, S. D. (2020). Immigration status and bullying victimization: Associations across national T and \\nschool contexts. Journal of Applied Developmental Psychology, 66 , Article 101075. https://doi.org/10.1016/j.appdev.2019.101075\\nStrohmeier, D., K ¨arn ¨a, A., & Salmivalli, C. (2011). Intrapersonal and interpersonal risk factors for peer victimization in immigrant youth in Finland. Developmental \\nPsychology, 47 (1), 248 – 258. https://doi.org/10.1037/a0020785\\nSulkowski, M. L., Bauman, S., Wright, S., Nixon, C., & Davis, S. (2014). Peer victimization in youth from immigrant and non-immigrant US families. School Psychology \\nInternational, 35 (6), 649 – 669. https://doi.org/10.1177/0143034314554968\\nTaylor, J. T., Esbensen, F.-A., Peterson, D., & Freng, A. (2007). Putting youth violent victimization into context: Sex, race/ethnicity, and community differences among \\na multisite sample of youths. Violence and Victims, 22 (6), 702 – 720. https://doi.org/10.1891/088667007782793129\\nTilley, J. L., Huey, S. J., Jr., Farver, J. M., Lai, M. H. C., & Wang, C. X. (2021). The immigrant paradox in the problem behaviors of youth in the United States: A Meta- \\nanalysis. Child Development, 92 (2), 502 – 516. https://doi.org/10.1111/cdev.13542\\nTillyer, M. S., & Tillyer, R. (2016). Race, ethnicity, and adolescent violent victimization. Journal of Youth and Adolescence, 45 , 1497 – 1511. https://doi.org/10.1007/ \\ns10964-016-0416-3\\nTurner, H. A., Shattuck, A., Finkelhor, D., & Hamby, S. (2016). Polyvictimization and youth violence exposure across contexts. Journal of Adolescent Health, 58 , \\n208 – 214. https://doi.org/10.1016/j.jadohealth.2015.09.021\\nTwisk, J. W. R. (2024). Indirecr effects in mediation analyses should not be tested for statistical significance. Journal of Clinical Epidemiology, 171 , Article 111393. \\nhttps://doi.org/10.1016/j.jclinepi.2024.111393\\nvan Batenburg-Eddes, T., Dick, B., & van de Looij-Jansen, P. (2012). Measuring juvenile delinquency: How do self-reports compare with official police statistics? \\nEuropean Journal of Criminology, 9 (1), 23 – 37. https://doi.org/10.1177/1477370811421644\\nWaehrer, G. M., Miller, T. R., Silverio Marques, S. C., Oh, D. L., & Burke Harris, N. (2020). Disease burden of adverse childhood experiences across 14 states. PLoS One, \\n15 (1), Article e0226134. https://doi.org/10.1371/journal.pone.0226134\\nXie, M., & Baumer, E. P. (2020). Immigrant status, citizenship, and victimization risk in the United States: New findings from the National Crime Victimization Survey \\n(NCVS)*. Criminology, 59 , 610 – 644. https://doi.org/10.1111/1745-9125.12278\\nZeisler, M.-L., Bilgic, L., Schumann, M., Wengler, A., Pol, R., Lemcke, J., … Schmich, P. (2020). Interventions to increase the reachability of migrants in Germany with \\nhealth interview surveys: Mixed-mode feasibility study. JMIR Formative Research, 4 (4), Article 414747. https://doi.org/10.2196/14747\\nK. Lahti et al.                                                                                                                                                                                                           Child Abuse & Neglect 158 (2024) 107140 \\n11')]"
      ]
     },
     "execution_count": 10,
     "metadata": {},
     "output_type": "execute_result"
    }
   ],
   "source": [
    "pages"
   ]
  },
  {
   "cell_type": "markdown",
   "metadata": {},
   "source": [
    "### split document into chunks"
   ]
  },
  {
   "cell_type": "code",
   "execution_count": 11,
   "metadata": {},
   "outputs": [],
   "source": [
    "text_splitter = RecursiveCharacterTextSplitter(chunk_size = 1000,\n",
    "                                               chunk_overlap=200,\n",
    "                                               length_function=len,\n",
    "                                               separators=[\"\\n\\n\", \"\\n\", \" \"])\n",
    "chunks = text_splitter.split_documents(pages)"
   ]
  },
  {
   "cell_type": "markdown",
   "metadata": {},
   "source": [
    "### create embedding\n"
   ]
  },
  {
   "cell_type": "code",
   "execution_count": 12,
   "metadata": {},
   "outputs": [],
   "source": [
    "def get_embedding_function():\n",
    "    embeddings = OpenAIEmbeddings(\n",
    "        model=\"text-embedding-ada-002\", openai_api_key = OPENAI_API_KEY\n",
    "    )\n",
    "    return embeddings\n",
    "\n",
    "embedding_function = get_embedding_function()\n",
    "#test_vector = embedding_function.embed_query(\"cat\")"
   ]
  },
  {
   "cell_type": "code",
   "execution_count": 13,
   "metadata": {},
   "outputs": [],
   "source": [
    "from langchain.evaluation import load_evaluator\n",
    "\n",
    "evaluator = load_evaluator(evaluator=\"embedding_distance\",\n",
    "                           embeddings=embedding_function)\n",
    "\n",
    "#evaluator.evaluate_strings(prediction=\"Amsterdam\", reference=\"coffeeshop\")"
   ]
  },
  {
   "cell_type": "markdown",
   "metadata": {},
   "source": [
    "### Create vector database"
   ]
  },
  {
   "cell_type": "code",
   "execution_count": 14,
   "metadata": {},
   "outputs": [],
   "source": [
    "import uuid\n",
    "\n",
    "# create a new Chroma database from the documents\n",
    "def create_vectorstore(chunks, embedding_function, vectorstore_path):\n",
    "    ids = [str(uuid.uuid5(uuid.NAMESPACE_DNS, doc.page_content)) for doc in chunks]\n",
    "\n",
    "    # ensure that only unique docs with unique ids are kept\n",
    "    unique_ids = set()\n",
    "    unique_chunks = []\n",
    "    \n",
    "    unique_chunks = []\n",
    "    for chunk, id in zip(chunks, ids):\n",
    "        if id not in unique_ids:\n",
    "            unique_ids.add(id)\n",
    "            unique_chunks.append(chunk)\n",
    "            \n",
    "    vectorstore = Chroma.from_documents(documents=unique_chunks,\n",
    "                                        ids=list(unique_ids),\n",
    "                                        embedding=embedding_function,\n",
    "                                        persist_directory=vectorstore_path)\n",
    "    vectorstore.persist()\n",
    "    return vectorstore"
   ]
  },
  {
   "cell_type": "code",
   "execution_count": 15,
   "metadata": {},
   "outputs": [
    {
     "name": "stderr",
     "output_type": "stream",
     "text": [
      "C:\\Users\\aljla\\AppData\\Local\\Temp\\ipykernel_10200\\473776910.py:21: LangChainDeprecationWarning: Since Chroma 0.4.x the manual persistence method is no longer supported as docs are automatically persisted.\n",
      "  vectorstore.persist()\n"
     ]
    }
   ],
   "source": [
    "# create vectorstore\n",
    "vectorstore = create_vectorstore(chunks=chunks,\n",
    "                                 embedding_function=embedding_function,\n",
    "                                 vectorstore_path=\"vectorstore_chroma\")"
   ]
  },
  {
   "cell_type": "markdown",
   "metadata": {},
   "source": [
    "## 2. Query for relevant data"
   ]
  },
  {
   "cell_type": "code",
   "execution_count": 16,
   "metadata": {},
   "outputs": [
    {
     "name": "stderr",
     "output_type": "stream",
     "text": [
      "C:\\Users\\aljla\\AppData\\Local\\Temp\\ipykernel_10200\\3871918315.py:2: LangChainDeprecationWarning: The class `Chroma` was deprecated in LangChain 0.2.9 and will be removed in 1.0. An updated version of the class exists in the :class:`~langchain-chroma package and should be used instead. To use it run `pip install -U :class:`~langchain-chroma` and import as `from :class:`~langchain_chroma import Chroma``.\n",
      "  vectorstore = Chroma(persist_directory= \"vectorstore_chroma\", embedding_function=embedding_function)\n"
     ]
    }
   ],
   "source": [
    "# load vectorstore\n",
    "vectorstore = Chroma(persist_directory= \"vectorstore_chroma\", embedding_function=embedding_function)"
   ]
  },
  {
   "cell_type": "code",
   "execution_count": 17,
   "metadata": {},
   "outputs": [
    {
     "name": "stdout",
     "output_type": "stream",
     "text": [
      "page_content='Received 30 June 2024; Received in revised form 2 November 2024; Accepted 4 November 2024  \n",
      "Child Abuse & Neglect 158 (2024) 107140 \n",
      "Available online 19 November 2024 \n",
      "0145-2134/© 2024 The Authors. Published by Elsevier Ltd. This is an open access article under the CC BY license \n",
      "( http://creativecommons.org/licenses/by/4.0/ ).' metadata={'author': 'Katri Lahti', 'creationdate': '2024-12-05T14:24:32+00:00', 'creationdate--text': '5th December 2024', 'creator': 'Elsevier', 'crossmarkdomainexclusive': 'true', 'crossmarkdomains[1]': 'elsevier.com', 'crossmarkdomains[2]': 'sciencedirect.com', 'crossmarkmajorversiondate': '2010-04-23', 'doi': '10.1016/j.chiabu.2024.107140', 'elsevierwebpdfspecifications': '7.0.1', 'keywords': 'Adolescence,Immigration,Victimization,Response integrity', 'moddate': '2024-12-05T14:24:42+00:00', 'page': 0, 'page_label': '1', 'producer': 'Acrobat Distiller 8.1.0 (Windows)', 'robots': 'noindex', 'source': 'data/test_rag2.pdf', 'subject': 'Child Abuse & Neglect, 158 (2024) 107140. doi:10.1016/j.chiabu.2024.107140', 'title': 'Victimization, immigration status, and psychosocial well-being: A representative study among finnish adolescents', 'total_pages': 11}\n",
      "page_content='European Journal of Criminology, 9 (1), 23 – 37. https://doi.org/10.1177/1477370811421644\n",
      "Waehrer, G. M., Miller, T. R., Silverio Marques, S. C., Oh, D. L., & Burke Harris, N. (2020). Disease burden of adverse childhood experiences across 14 states. PLoS One, \n",
      "15 (1), Article e0226134. https://doi.org/10.1371/journal.pone.0226134\n",
      "Xie, M., & Baumer, E. P. (2020). Immigrant status, citizenship, and victimization risk in the United States: New findings from the National Crime Victimization Survey \n",
      "(NCVS)*. Criminology, 59 , 610 – 644. https://doi.org/10.1111/1745-9125.12278\n",
      "Zeisler, M.-L., Bilgic, L., Schumann, M., Wengler, A., Pol, R., Lemcke, J., … Schmich, P. (2020). Interventions to increase the reachability of migrants in Germany with \n",
      "health interview surveys: Mixed-mode feasibility study. JMIR Formative Research, 4 (4), Article 414747. https://doi.org/10.2196/14747' metadata={'author': 'Katri Lahti', 'creationdate': '2024-12-05T14:24:32+00:00', 'creationdate--text': '5th December 2024', 'creator': 'Elsevier', 'crossmarkdomainexclusive': 'true', 'crossmarkdomains[1]': 'elsevier.com', 'crossmarkdomains[2]': 'sciencedirect.com', 'crossmarkmajorversiondate': '2010-04-23', 'doi': '10.1016/j.chiabu.2024.107140', 'elsevierwebpdfspecifications': '7.0.1', 'keywords': 'Adolescence,Immigration,Victimization,Response integrity', 'moddate': '2024-12-05T14:24:42+00:00', 'page': 10, 'page_label': '11', 'producer': 'Acrobat Distiller 8.1.0 (Windows)', 'robots': 'noindex', 'source': 'data/test_rag2.pdf', 'subject': 'Child Abuse & Neglect, 158 (2024) 107140. doi:10.1016/j.chiabu.2024.107140', 'title': 'Victimization, immigration status, and psychosocial well-being: A representative study among finnish adolescents', 'total_pages': 11}\n",
      "page_content='K ¨a ¨ari ¨ainen, J., Ellonen, N., Peutere, L., & Sariola, H. (2010). Lapset ja nuoret v ¨akivallan uhreina: maahanmuuttajien ja kantasuomalaisten vertailua. \n",
      "Yhteiskuntapolitiikka, 75 (2), 159 – 174 .\n",
      "Kåks, P., Katzen, L. S., Målqvist, M., Bergstr ¨om, A., & Herzig van Wees, S. (2024). Implementing a social innovation for community-based peer support for immigrant \n",
      "mothers in Sweden: A mixed methods process evaluation. Frontiers . Public Health, 11 . https://doi.org/10.3389/fpubh.2023.1332738\n",
      "Kankaanp ¨a ¨a, R., T ¨ott ¨o, P., Punam ¨aki, R.-L., & Peltonen, K. (2023). Is it time to revise the SDQ? The psychometric evaluation of the strengths and difficulties \n",
      "questionnaire. Psychological Assessment, 35 (12), 1069 – 1084. https://doi.org/10.1037/pas0001265\n",
      "Kivivuori, J., Salmi, V., & Walser, S. (2013). Supervision mode effects in computerized delinquency surveys at school: Finnish replication of a Swiss experiment.' metadata={'author': 'Katri Lahti', 'creationdate': '2024-12-05T14:24:32+00:00', 'creationdate--text': '5th December 2024', 'creator': 'Elsevier', 'crossmarkdomainexclusive': 'true', 'crossmarkdomains[1]': 'elsevier.com', 'crossmarkdomains[2]': 'sciencedirect.com', 'crossmarkmajorversiondate': '2010-04-23', 'doi': '10.1016/j.chiabu.2024.107140', 'elsevierwebpdfspecifications': '7.0.1', 'keywords': 'Adolescence,Immigration,Victimization,Response integrity', 'moddate': '2024-12-05T14:24:42+00:00', 'page': 10, 'page_label': '11', 'producer': 'Acrobat Distiller 8.1.0 (Windows)', 'robots': 'noindex', 'source': 'data/test_rag2.pdf', 'subject': 'Child Abuse & Neglect, 158 (2024) 107140. doi:10.1016/j.chiabu.2024.107140', 'title': 'Victimization, immigration status, and psychosocial well-being: A representative study among finnish adolescents', 'total_pages': 11}\n",
      "page_content='Peltonen: Writing – review & editing, Conceptualization. Markus Kaakinen: Writing – review & editing, Project administration, \n",
      "Methodology, Funding acquisition, Data curation, Conceptualization. Eeva T. Aronen: Writing – review & editing, Writing – original \n",
      "draft, Supervision, Conceptualization.\n",
      "Funding\n",
      "This work was supported by the Foundation for Pediatric Research and the Helsinki University Hospital Research Funds [grant \n",
      "number TYH2021301].\n",
      "Declaration of competing interest\n",
      "The authors report there are no competing interests to declare.\n",
      "Data availability\n",
      "The data that has been used is confidential. \n",
      "References\n",
      "Alisic, E., Zalta, A. K., van Wesel, F., Larsen, S. E., Hafstad, G. S., Hassanpour, K., & Smid, G. E. (2014). Rates of post-traumatic stress disorder in trauma-exposed \n",
      "children and adolescents: meta-analysis. The British Journal of Psychiatry, 204 , 335 – 340. https://doi.org/10.1192/bjp.bp.113.131227' metadata={'author': 'Katri Lahti', 'creationdate': '2024-12-05T14:24:32+00:00', 'creationdate--text': '5th December 2024', 'creator': 'Elsevier', 'crossmarkdomainexclusive': 'true', 'crossmarkdomains[1]': 'elsevier.com', 'crossmarkdomains[2]': 'sciencedirect.com', 'crossmarkmajorversiondate': '2010-04-23', 'doi': '10.1016/j.chiabu.2024.107140', 'elsevierwebpdfspecifications': '7.0.1', 'keywords': 'Adolescence,Immigration,Victimization,Response integrity', 'moddate': '2024-12-05T14:24:42+00:00', 'page': 9, 'page_label': '10', 'producer': 'Acrobat Distiller 8.1.0 (Windows)', 'robots': 'noindex', 'source': 'data/test_rag2.pdf', 'subject': 'Child Abuse & Neglect, 158 (2024) 107140. doi:10.1016/j.chiabu.2024.107140', 'title': 'Victimization, immigration status, and psychosocial well-being: A representative study among finnish adolescents', 'total_pages': 11}\n"
     ]
    }
   ],
   "source": [
    "# create retriever and get relevant chunks\n",
    "retriever = vectorstore.as_retriever(search_type=\"similarity\")\n",
    "relevant_chunks = retriever.invoke(\"What is the title of the article?\")\n",
    "for chunk in relevant_chunks:\n",
    "    print(chunk)"
   ]
  },
  {
   "cell_type": "code",
   "execution_count": 18,
   "metadata": {},
   "outputs": [],
   "source": [
    "# prompt template\n",
    "PROMPT_TEMPLATE = \"\"\" \n",
    "You are an assistant for question_answering tasks.\n",
    "Use the following pieces of retrieved context to answer\n",
    "the question. If you don't know the answer, say that you\n",
    "don't know. DON'T MAKE UP ANYTHING.\n",
    "\n",
    "{context}\n",
    "\n",
    "---\n",
    "\n",
    "Answer the question based on the above context: {question}\n",
    "\"\"\""
   ]
  },
  {
   "cell_type": "code",
   "execution_count": 28,
   "metadata": {},
   "outputs": [
    {
     "name": "stdout",
     "output_type": "stream",
     "text": [
      "Human:  \n",
      "You are an assistant for question_answering tasks.\n",
      "Use the following pieces of retrieved context to answer\n",
      "the question. If you don't know the answer, say that you\n",
      "don't know. DON'T MAKE UP ANYTHING.\n",
      "\n",
      "Received 30 June 2024; Received in revised form 2 November 2024; Accepted 4 November 2024  \n",
      "Child Abuse & Neglect 158 (2024) 107140 \n",
      "Available online 19 November 2024 \n",
      "0145-2134/© 2024 The Authors. Published by Elsevier Ltd. This is an open access article under the CC BY license \n",
      "( http://creativecommons.org/licenses/by/4.0/ ).\n",
      "\n",
      "---\n",
      "\n",
      "European Journal of Criminology, 9 (1), 23 – 37. https://doi.org/10.1177/1477370811421644\n",
      "Waehrer, G. M., Miller, T. R., Silverio Marques, S. C., Oh, D. L., & Burke Harris, N. (2020). Disease burden of adverse childhood experiences across 14 states. PLoS One, \n",
      "15 (1), Article e0226134. https://doi.org/10.1371/journal.pone.0226134\n",
      "Xie, M., & Baumer, E. P. (2020). Immigrant status, citizenship, and victimization risk in the United States: New findings from the National Crime Victimization Survey \n",
      "(NCVS)*. Criminology, 59 , 610 – 644. https://doi.org/10.1111/1745-9125.12278\n",
      "Zeisler, M.-L., Bilgic, L., Schumann, M., Wengler, A., Pol, R., Lemcke, J., … Schmich, P. (2020). Interventions to increase the reachability of migrants in Germany with \n",
      "health interview surveys: Mixed-mode feasibility study. JMIR Formative Research, 4 (4), Article 414747. https://doi.org/10.2196/14747\n",
      "\n",
      "---\n",
      "\n",
      "K ¨a ¨ari ¨ainen, J., Ellonen, N., Peutere, L., & Sariola, H. (2010). Lapset ja nuoret v ¨akivallan uhreina: maahanmuuttajien ja kantasuomalaisten vertailua. \n",
      "Yhteiskuntapolitiikka, 75 (2), 159 – 174 .\n",
      "Kåks, P., Katzen, L. S., Målqvist, M., Bergstr ¨om, A., & Herzig van Wees, S. (2024). Implementing a social innovation for community-based peer support for immigrant \n",
      "mothers in Sweden: A mixed methods process evaluation. Frontiers . Public Health, 11 . https://doi.org/10.3389/fpubh.2023.1332738\n",
      "Kankaanp ¨a ¨a, R., T ¨ott ¨o, P., Punam ¨aki, R.-L., & Peltonen, K. (2023). Is it time to revise the SDQ? The psychometric evaluation of the strengths and difficulties \n",
      "questionnaire. Psychological Assessment, 35 (12), 1069 – 1084. https://doi.org/10.1037/pas0001265\n",
      "Kivivuori, J., Salmi, V., & Walser, S. (2013). Supervision mode effects in computerized delinquency surveys at school: Finnish replication of a Swiss experiment.\n",
      "\n",
      "---\n",
      "\n",
      "Peltonen: Writing – review & editing, Conceptualization. Markus Kaakinen: Writing – review & editing, Project administration, \n",
      "Methodology, Funding acquisition, Data curation, Conceptualization. Eeva T. Aronen: Writing – review & editing, Writing – original \n",
      "draft, Supervision, Conceptualization.\n",
      "Funding\n",
      "This work was supported by the Foundation for Pediatric Research and the Helsinki University Hospital Research Funds [grant \n",
      "number TYH2021301].\n",
      "Declaration of competing interest\n",
      "The authors report there are no competing interests to declare.\n",
      "Data availability\n",
      "The data that has been used is confidential. \n",
      "References\n",
      "Alisic, E., Zalta, A. K., van Wesel, F., Larsen, S. E., Hafstad, G. S., Hassanpour, K., & Smid, G. E. (2014). Rates of post-traumatic stress disorder in trauma-exposed \n",
      "children and adolescents: meta-analysis. The British Journal of Psychiatry, 204 , 335 – 340. https://doi.org/10.1192/bjp.bp.113.131227\n",
      "\n",
      "---\n",
      "\n",
      "Answer the question based on the above context: What is the abstract?\n",
      "\n"
     ]
    }
   ],
   "source": [
    "# concatenate context text\n",
    "context_text = \"\\n\\n---\\n\\n\".join([doc.page_content for doc in relevant_chunks])\n",
    "\n",
    "# create prompt\n",
    "prompt_template = ChatPromptTemplate.from_template(PROMPT_TEMPLATE)\n",
    "prompt = prompt_template.format(context=context_text,\n",
    "                                question=\"What is the abstract?\")\n",
    "\n",
    "print(prompt)\n"
   ]
  },
  {
   "cell_type": "markdown",
   "metadata": {},
   "source": [
    "## 3.Generate responses"
   ]
  },
  {
   "cell_type": "code",
   "execution_count": 29,
   "metadata": {},
   "outputs": [
    {
     "data": {
      "text/plain": [
       "AIMessage(content=\"I don't know.\", additional_kwargs={'refusal': None}, response_metadata={'token_usage': {'completion_tokens': 5, 'prompt_tokens': 1004, 'total_tokens': 1009, 'completion_tokens_details': {'accepted_prediction_tokens': 0, 'audio_tokens': 0, 'reasoning_tokens': 0, 'rejected_prediction_tokens': 0}, 'prompt_tokens_details': {'audio_tokens': 0, 'cached_tokens': 0}}, 'model_name': 'gpt-4o-mini-2024-07-18', 'system_fingerprint': 'fp_7fcd609668', 'finish_reason': 'stop', 'logprobs': None}, id='run-827380c3-7bc7-479b-b428-8b5804621729-0', usage_metadata={'input_tokens': 1004, 'output_tokens': 5, 'total_tokens': 1009, 'input_token_details': {'audio': 0, 'cache_read': 0}, 'output_token_details': {'audio': 0, 'reasoning': 0}})"
      ]
     },
     "execution_count": 29,
     "metadata": {},
     "output_type": "execute_result"
    }
   ],
   "source": [
    "llm.invoke(prompt)"
   ]
  },
  {
   "cell_type": "markdown",
   "metadata": {},
   "source": [
    "### Using Langchain expression language"
   ]
  },
  {
   "cell_type": "code",
   "execution_count": 31,
   "metadata": {},
   "outputs": [
    {
     "data": {
      "text/plain": [
       "AIMessage(content=\"The second paragraph discusses the inclusion of meta-questions regarding parental corporal punishment and sexual abuse in the study's questionnaire. It mentions that these questions were presented to every respondent, regardless of their earlier answers about victimization experiences. Participants who denied the target victimization question were included in further analyses, and if a respondent answered a question about physical abuse, the corresponding meta-question was presented later. The questions were answered in a dichotomous manner (yes or no).\", additional_kwargs={'refusal': None}, response_metadata={'token_usage': {'completion_tokens': 93, 'prompt_tokens': 612, 'total_tokens': 705, 'completion_tokens_details': {'accepted_prediction_tokens': 0, 'audio_tokens': 0, 'reasoning_tokens': 0, 'rejected_prediction_tokens': 0}, 'prompt_tokens_details': {'audio_tokens': 0, 'cached_tokens': 0}}, 'model_name': 'gpt-4o-mini-2024-07-18', 'system_fingerprint': 'fp_709714d124', 'finish_reason': 'stop', 'logprobs': None}, id='run-d0bce16c-f0fe-4984-ba09-462c5e3f7f6f-0', usage_metadata={'input_tokens': 612, 'output_tokens': 93, 'total_tokens': 705, 'input_token_details': {'audio': 0, 'cache_read': 0}, 'output_token_details': {'audio': 0, 'reasoning': 0}})"
      ]
     },
     "execution_count": 31,
     "metadata": {},
     "output_type": "execute_result"
    }
   ],
   "source": [
    "def format_docs(docs):\n",
    "    return \"\\n\\n\".join(doc.page_content for doc in docs)\n",
    "\n",
    "rag_chain = (\n",
    "    {\"context\": retriever | format_docs, \"question\": RunnablePassthrough()}\n",
    "    | prompt_template\n",
    "    |llm\n",
    ")\n",
    "rag_chain.invoke(\"what is the second paragraph?\")"
   ]
  },
  {
   "cell_type": "markdown",
   "metadata": {},
   "source": [
    "### Generate structured responses"
   ]
  },
  {
   "cell_type": "code",
   "execution_count": 32,
   "metadata": {},
   "outputs": [],
   "source": [
    "class ExtractedInfo(BaseModel):\n",
    "    \"\"\"Extracted information about the research article\"\"\"\n",
    "    paper_title: str= Field(description=\"Title of the paper\")\n",
    "    paper_summary: str= Field(description=\"Summary of the paper\")\n",
    "    publication_year: int = Field(description=\"Year of publication of the paper\")\n",
    "    paper_authors: str = Field(description=\"Names of the authors of the paper\")"
   ]
  },
  {
   "cell_type": "code",
   "execution_count": 33,
   "metadata": {},
   "outputs": [
    {
     "name": "stderr",
     "output_type": "stream",
     "text": [
      "c:\\Users\\aljla\\rag_llms\\myenv\\Lib\\site-packages\\langchain_openai\\chat_models\\base.py:1360: UserWarning: Received a Pydantic BaseModel V1 schema. This is not supported by method=\"json_schema\". Please use method=\"function_calling\" or specify schema via JSON Schema or Pydantic V2 BaseModel. Overriding to method=\"function_calling\".\n",
      "  warnings.warn(\n"
     ]
    },
    {
     "data": {
      "text/plain": [
       "ExtractedInfo(paper_title='rates of post-traumatic stress disorder in trauma-exposed children and adolescents: meta-analysis', paper_summary='This work was supported by the Foundation for Pediatric Research and the Helsinki University Hospital Research Funds, focusing on the rates of post-traumatic stress disorder in trauma-exposed children and adolescents.', publication_year=2024, paper_authors='Alisic, E., Zalta, A. K., van Wesel, F., Larsen, S. E., Hafstad, G. S., Hassanpour, K., & Smid, G. E.')"
      ]
     },
     "execution_count": 33,
     "metadata": {},
     "output_type": "execute_result"
    }
   ],
   "source": [
    "rag_chain = (\n",
    "    {\"context\": retriever | format_docs, \"question\": RunnablePassthrough()}\n",
    "    |prompt_template\n",
    "    |llm.with_structured_output(ExtractedInfo, strict=True)\n",
    ")\n",
    "\n",
    "rag_chain.invoke(\"Give me the title, summary, publication date, authors of the research paper.\")"
   ]
  },
  {
   "cell_type": "code",
   "execution_count": null,
   "metadata": {},
   "outputs": [],
   "source": []
  }
 ],
 "metadata": {
  "kernelspec": {
   "display_name": "myenv",
   "language": "python",
   "name": "python3"
  },
  "language_info": {
   "codemirror_mode": {
    "name": "ipython",
    "version": 3
   },
   "file_extension": ".py",
   "mimetype": "text/x-python",
   "name": "python",
   "nbconvert_exporter": "python",
   "pygments_lexer": "ipython3",
   "version": "3.13.0"
  }
 },
 "nbformat": 4,
 "nbformat_minor": 2
}
